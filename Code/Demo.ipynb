{
 "cells": [
  {
   "cell_type": "markdown",
   "id": "e38f7cb5",
   "metadata": {
    "toc": true
   },
   "source": [
    "<h1>Table of Contents<span class=\"tocSkip\"></span></h1>\n",
    "<div class=\"toc\"><ul class=\"toc-item\"><li><span><a href=\"#Midterm-Update\" data-toc-modified-id=\"Midterm-Update-1\"><span class=\"toc-item-num\">1&nbsp;&nbsp;</span>Midterm Update</a></span></li><li><span><a href=\"#Logic-For-Demo\" data-toc-modified-id=\"Logic-For-Demo-2\"><span class=\"toc-item-num\">2&nbsp;&nbsp;</span>Logic For Demo</a></span><ul class=\"toc-item\"><li><span><a href=\"#Data\" data-toc-modified-id=\"Data-2.1\"><span class=\"toc-item-num\">2.1&nbsp;&nbsp;</span>Data</a></span><ul class=\"toc-item\"><li><span><a href=\"#Drop-Columns-and-Nulls\" data-toc-modified-id=\"Drop-Columns-and-Nulls-2.1.1\"><span class=\"toc-item-num\">2.1.1&nbsp;&nbsp;</span>Drop Columns and Nulls</a></span></li></ul></li><li><span><a href=\"#Prepare-for-Modeling\" data-toc-modified-id=\"Prepare-for-Modeling-2.2\"><span class=\"toc-item-num\">2.2&nbsp;&nbsp;</span>Prepare for Modeling</a></span><ul class=\"toc-item\"><li><span><a href=\"#Split-Train/Test\" data-toc-modified-id=\"Split-Train/Test-2.2.1\"><span class=\"toc-item-num\">2.2.1&nbsp;&nbsp;</span>Split Train/Test</a></span></li></ul></li><li><span><a href=\"#RF-Classifier\" data-toc-modified-id=\"RF-Classifier-2.3\"><span class=\"toc-item-num\">2.3&nbsp;&nbsp;</span>RF Classifier</a></span><ul class=\"toc-item\"><li><span><a href=\"#Model\" data-toc-modified-id=\"Model-2.3.1\"><span class=\"toc-item-num\">2.3.1&nbsp;&nbsp;</span>Model</a></span></li><li><span><a href=\"#Accuracy\" data-toc-modified-id=\"Accuracy-2.3.2\"><span class=\"toc-item-num\">2.3.2&nbsp;&nbsp;</span>Accuracy</a></span></li><li><span><a href=\"#Save-Results\" data-toc-modified-id=\"Save-Results-2.3.3\"><span class=\"toc-item-num\">2.3.3&nbsp;&nbsp;</span>Save Results</a></span></li></ul></li><li><span><a href=\"#Regression\" data-toc-modified-id=\"Regression-2.4\"><span class=\"toc-item-num\">2.4&nbsp;&nbsp;</span>Regression</a></span><ul class=\"toc-item\"><li><span><a href=\"#Model\" data-toc-modified-id=\"Model-2.4.1\"><span class=\"toc-item-num\">2.4.1&nbsp;&nbsp;</span>Model</a></span></li><li><span><a href=\"#Convert-Regression-Results-to-Binary-Labels\" data-toc-modified-id=\"Convert-Regression-Results-to-Binary-Labels-2.4.2\"><span class=\"toc-item-num\">2.4.2&nbsp;&nbsp;</span>Convert Regression Results to Binary Labels</a></span></li><li><span><a href=\"#Accuracy\" data-toc-modified-id=\"Accuracy-2.4.3\"><span class=\"toc-item-num\">2.4.3&nbsp;&nbsp;</span>Accuracy</a></span></li><li><span><a href=\"#Save-Results\" data-toc-modified-id=\"Save-Results-2.4.4\"><span class=\"toc-item-num\">2.4.4&nbsp;&nbsp;</span>Save Results</a></span></li></ul></li><li><span><a href=\"#Compare-Classifier-against-Regression\" data-toc-modified-id=\"Compare-Classifier-against-Regression-2.5\"><span class=\"toc-item-num\">2.5&nbsp;&nbsp;</span>Compare Classifier against Regression</a></span></li><li><span><a href=\"#Convert-Files-to-Images\" data-toc-modified-id=\"Convert-Files-to-Images-2.6\"><span class=\"toc-item-num\">2.6&nbsp;&nbsp;</span>Convert Files to Images</a></span></li></ul></li><li><span><a href=\"#What-we-have-done\" data-toc-modified-id=\"What-we-have-done-3\"><span class=\"toc-item-num\">3&nbsp;&nbsp;</span>What we have done</a></span><ul class=\"toc-item\"><li><span><a href=\"#Researched-related-Work\" data-toc-modified-id=\"Researched-related-Work-3.1\"><span class=\"toc-item-num\">3.1&nbsp;&nbsp;</span>Researched related Work</a></span><ul class=\"toc-item\"><li><span><a href=\"#Malware-detection-using-machine-learning\" data-toc-modified-id=\"Malware-detection-using-machine-learning-3.1.1\"><span class=\"toc-item-num\">3.1.1&nbsp;&nbsp;</span>Malware detection using machine learning</a></span></li><li><span><a href=\"#Robust-Intelligent-Malware-Detection-Using-Deep-Learning\" data-toc-modified-id=\"Robust-Intelligent-Malware-Detection-Using-Deep-Learning-3.1.2\"><span class=\"toc-item-num\">3.1.2&nbsp;&nbsp;</span>Robust Intelligent Malware Detection Using Deep Learning</a></span></li><li><span><a href=\"#Malware-Detection-Using-Machine-Learning-and-Deep-Learning\" data-toc-modified-id=\"Malware-Detection-Using-Machine-Learning-and-Deep-Learning-3.1.3\"><span class=\"toc-item-num\">3.1.3&nbsp;&nbsp;</span>Malware Detection Using Machine Learning and Deep Learning</a></span></li><li><span><a href=\"#Collect-Datasets\" data-toc-modified-id=\"Collect-Datasets-3.1.4\"><span class=\"toc-item-num\">3.1.4&nbsp;&nbsp;</span>Collect Datasets</a></span></li><li><span><a href=\"#Modeling\" data-toc-modified-id=\"Modeling-3.1.5\"><span class=\"toc-item-num\">3.1.5&nbsp;&nbsp;</span>Modeling</a></span></li></ul></li></ul></li><li><span><a href=\"#What-we-plan-to-do\" data-toc-modified-id=\"What-we-plan-to-do-4\"><span class=\"toc-item-num\">4&nbsp;&nbsp;</span>What we plan to do</a></span></li><li><span><a href=\"#Demo\" data-toc-modified-id=\"Demo-5\"><span class=\"toc-item-num\">5&nbsp;&nbsp;</span>Demo</a></span><ul class=\"toc-item\"><li><span><a href=\"#Summary\" data-toc-modified-id=\"Summary-5.1\"><span class=\"toc-item-num\">5.1&nbsp;&nbsp;</span>Summary</a></span></li><li><span><a href=\"#Example-of-Using-the-Model\" data-toc-modified-id=\"Example-of-Using-the-Model-5.2\"><span class=\"toc-item-num\">5.2&nbsp;&nbsp;</span>Example of Using the Model</a></span></li><li><span><a href=\"#Feature-Importance\" data-toc-modified-id=\"Feature-Importance-5.3\"><span class=\"toc-item-num\">5.3&nbsp;&nbsp;</span>Feature Importance</a></span><ul class=\"toc-item\"><li><span><a href=\"#Classifier\" data-toc-modified-id=\"Classifier-5.3.1\"><span class=\"toc-item-num\">5.3.1&nbsp;&nbsp;</span>Classifier</a></span></li><li><span><a href=\"#Regression\" data-toc-modified-id=\"Regression-5.3.2\"><span class=\"toc-item-num\">5.3.2&nbsp;&nbsp;</span>Regression</a></span></li></ul></li><li><span><a href=\"#Converting-Files-to-Images\" data-toc-modified-id=\"Converting-Files-to-Images-5.4\"><span class=\"toc-item-num\">5.4&nbsp;&nbsp;</span>Converting Files to Images</a></span></li></ul></li></ul></div>"
   ]
  },
  {
   "cell_type": "markdown",
   "id": "b2ac6948",
   "metadata": {},
   "source": [
    "# Midterm Update\n",
    "    Joshua Ball, Chandrapatla Ravali, Caleb Darnell, Alec Jamar\n",
    "    \n",
    "    This notebook will go over:\n",
    "        Some Code of our current solutions\n",
    "        What we have done\n",
    "        And what we plan to do\n",
    "        Our Demo"
   ]
  },
  {
   "cell_type": "markdown",
   "id": "841284da",
   "metadata": {},
   "source": [
    "# Logic For Demo"
   ]
  },
  {
   "cell_type": "code",
   "execution_count": 1,
   "id": "77c9ffed",
   "metadata": {},
   "outputs": [],
   "source": [
    "import pandas as pd\n",
    "import numpy as np\n",
    "\n",
    "import pickle\n",
    "\n",
    "from sklearn.model_selection import train_test_split\n",
    "\n",
    "from sklearn.ensemble import RandomForestRegressor\n",
    "from sklearn.ensemble import RandomForestClassifier\n",
    "\n",
    "from PIL import Image\n",
    "from IPython.display import display\n",
    "width, height = 250, 250"
   ]
  },
  {
   "cell_type": "markdown",
   "id": "f7b94422",
   "metadata": {},
   "source": [
    "## Data "
   ]
  },
  {
   "cell_type": "code",
   "execution_count": 2,
   "id": "fafbce82",
   "metadata": {},
   "outputs": [
    {
     "name": "stdout",
     "output_type": "stream",
     "text": [
      "Wall time: 1.19 s\n"
     ]
    },
    {
     "name": "stderr",
     "output_type": "stream",
     "text": [
      "C:\\Users\\caleb\\PycharmProjects\\ditto\\ven\\lib\\site-packages\\IPython\\core\\magics\\execution.py:1335: DtypeWarning: Columns (2) have mixed types.Specify dtype option on import or set low_memory=False.\n",
      "  exec(code, glob, local_ns)\n"
     ]
    }
   ],
   "source": [
    "%%time\n",
    "data = pd.read_csv(\"C:\\\\Users\\\\caleb\\\\PycharmProjects\\\\Sec_Project\\\\Data\\\\Kaggle-data.csv\")"
   ]
  },
  {
   "cell_type": "code",
   "execution_count": 3,
   "id": "49093bea",
   "metadata": {},
   "outputs": [
    {
     "data": {
      "text/plain": [
       "(216352, 58)"
      ]
     },
     "execution_count": 3,
     "metadata": {},
     "output_type": "execute_result"
    }
   ],
   "source": [
    "data.shape"
   ]
  },
  {
   "cell_type": "code",
   "execution_count": 4,
   "id": "b4df5c7e",
   "metadata": {},
   "outputs": [
    {
     "data": {
      "text/html": [
       "<div>\n",
       "<style scoped>\n",
       "    .dataframe tbody tr th:only-of-type {\n",
       "        vertical-align: middle;\n",
       "    }\n",
       "\n",
       "    .dataframe tbody tr th {\n",
       "        vertical-align: top;\n",
       "    }\n",
       "\n",
       "    .dataframe thead th {\n",
       "        text-align: right;\n",
       "    }\n",
       "</style>\n",
       "<table border=\"1\" class=\"dataframe\">\n",
       "  <thead>\n",
       "    <tr style=\"text-align: right;\">\n",
       "      <th></th>\n",
       "      <th>ID</th>\n",
       "      <th>md5</th>\n",
       "      <th>Machine</th>\n",
       "      <th>SizeOfOptionalHeader</th>\n",
       "      <th>Characteristics</th>\n",
       "      <th>MajorLinkerVersion</th>\n",
       "      <th>MinorLinkerVersion</th>\n",
       "      <th>SizeOfCode</th>\n",
       "      <th>SizeOfInitializedData</th>\n",
       "      <th>SizeOfUninitializedData</th>\n",
       "      <th>...</th>\n",
       "      <th>ResourcesMeanEntropy</th>\n",
       "      <th>ResourcesMinEntropy</th>\n",
       "      <th>ResourcesMaxEntropy</th>\n",
       "      <th>ResourcesMeanSize</th>\n",
       "      <th>ResourcesMinSize</th>\n",
       "      <th>ResourcesMaxSize</th>\n",
       "      <th>LoadConfigurationSize</th>\n",
       "      <th>VersionInformationSize</th>\n",
       "      <th>legitimate</th>\n",
       "      <th>Unnamed: 57</th>\n",
       "    </tr>\n",
       "  </thead>\n",
       "  <tbody>\n",
       "    <tr>\n",
       "      <th>0</th>\n",
       "      <td>1</td>\n",
       "      <td>b69acb3bb133974e48229627663f96d4</td>\n",
       "      <td>332</td>\n",
       "      <td>224</td>\n",
       "      <td>8450</td>\n",
       "      <td>8.0</td>\n",
       "      <td>0</td>\n",
       "      <td>16896</td>\n",
       "      <td>8192</td>\n",
       "      <td>0</td>\n",
       "      <td>...</td>\n",
       "      <td>3.492126</td>\n",
       "      <td>3.492126</td>\n",
       "      <td>3.492126</td>\n",
       "      <td>864.0</td>\n",
       "      <td>864.0</td>\n",
       "      <td>864</td>\n",
       "      <td>72</td>\n",
       "      <td>0</td>\n",
       "      <td>1</td>\n",
       "      <td>NaN</td>\n",
       "    </tr>\n",
       "  </tbody>\n",
       "</table>\n",
       "<p>1 rows × 58 columns</p>\n",
       "</div>"
      ],
      "text/plain": [
       "   ID                               md5 Machine  SizeOfOptionalHeader  \\\n",
       "0   1  b69acb3bb133974e48229627663f96d4     332                   224   \n",
       "\n",
       "   Characteristics  MajorLinkerVersion  MinorLinkerVersion  SizeOfCode  \\\n",
       "0             8450                 8.0                   0       16896   \n",
       "\n",
       "   SizeOfInitializedData  SizeOfUninitializedData  ...  ResourcesMeanEntropy  \\\n",
       "0                   8192                        0  ...              3.492126   \n",
       "\n",
       "   ResourcesMinEntropy  ResourcesMaxEntropy  ResourcesMeanSize  \\\n",
       "0             3.492126             3.492126              864.0   \n",
       "\n",
       "   ResourcesMinSize  ResourcesMaxSize  LoadConfigurationSize  \\\n",
       "0             864.0               864                     72   \n",
       "\n",
       "   VersionInformationSize  legitimate  Unnamed: 57  \n",
       "0                       0           1          NaN  \n",
       "\n",
       "[1 rows x 58 columns]"
      ]
     },
     "execution_count": 4,
     "metadata": {},
     "output_type": "execute_result"
    }
   ],
   "source": [
    "data.head(1)"
   ]
  },
  {
   "cell_type": "markdown",
   "id": "9e7c81a2",
   "metadata": {},
   "source": [
    "### Drop Columns and Nulls"
   ]
  },
  {
   "cell_type": "code",
   "execution_count": 5,
   "id": "640bbdcc",
   "metadata": {},
   "outputs": [],
   "source": [
    "columns_to_drop = [\n",
    "   \"md5\"\n",
    "    ,\"Machine\"\n",
    "    ,\"Unnamed: 57\"\n",
    "]"
   ]
  },
  {
   "cell_type": "code",
   "execution_count": 6,
   "id": "c6368872",
   "metadata": {},
   "outputs": [],
   "source": [
    "clean_data = data.drop(columns=columns_to_drop)"
   ]
  },
  {
   "cell_type": "code",
   "execution_count": 7,
   "id": "16cfecce",
   "metadata": {},
   "outputs": [
    {
     "name": "stdout",
     "output_type": "stream",
     "text": [
      "Dimension: MajorLinkerVersion\n",
      "Nulls: 1\n",
      "Type: float64\n",
      "Unique Values: 67\n"
     ]
    }
   ],
   "source": [
    "for col in clean_data.columns:\n",
    "    if clean_data[col].isnull().sum() != 0 or not str(clean_data[col].dtypes) in [\"int64\",\"float64\"]:\n",
    "        print(f\"Dimension: {col}\")\n",
    "        print(f\"Nulls: {clean_data[col].isnull().sum()}\")\n",
    "        print(f\"Type: {clean_data[col].dtypes}\")\n",
    "        print(f\"Unique Values: {clean_data[col].nunique()}\")"
   ]
  },
  {
   "cell_type": "code",
   "execution_count": 8,
   "id": "0142ead8",
   "metadata": {},
   "outputs": [
    {
     "data": {
      "text/plain": [
       "13    1\n",
       "Name: legitimate, dtype: int64"
      ]
     },
     "execution_count": 8,
     "metadata": {},
     "output_type": "execute_result"
    }
   ],
   "source": [
    "clean_data[clean_data[\"MajorLinkerVersion\"].isnull()][\"legitimate\"]"
   ]
  },
  {
   "cell_type": "code",
   "execution_count": 9,
   "id": "86e949b2",
   "metadata": {},
   "outputs": [],
   "source": [
    "clean_data = clean_data.dropna()"
   ]
  },
  {
   "cell_type": "code",
   "execution_count": 10,
   "id": "bd777c7c",
   "metadata": {},
   "outputs": [
    {
     "data": {
      "text/plain": [
       "(216351, 55)"
      ]
     },
     "execution_count": 10,
     "metadata": {},
     "output_type": "execute_result"
    }
   ],
   "source": [
    "clean_data.shape"
   ]
  },
  {
   "cell_type": "markdown",
   "id": "0dab032e",
   "metadata": {},
   "source": [
    "## Prepare for Modeling"
   ]
  },
  {
   "cell_type": "code",
   "execution_count": 11,
   "id": "28d1a043",
   "metadata": {},
   "outputs": [],
   "source": [
    "labels = np.array(clean_data['legitimate'])"
   ]
  },
  {
   "cell_type": "code",
   "execution_count": 12,
   "id": "365e73d3",
   "metadata": {},
   "outputs": [],
   "source": [
    "features= clean_data.drop(columns=['ID','legitimate'], axis = 1)"
   ]
  },
  {
   "cell_type": "code",
   "execution_count": 13,
   "id": "0b737c83",
   "metadata": {},
   "outputs": [],
   "source": [
    "feature_list = list(features.columns)"
   ]
  },
  {
   "cell_type": "code",
   "execution_count": 14,
   "id": "80599ec3",
   "metadata": {},
   "outputs": [],
   "source": [
    "features = np.array(features)"
   ]
  },
  {
   "cell_type": "markdown",
   "id": "81ee380b",
   "metadata": {},
   "source": [
    "### Split Train/Test"
   ]
  },
  {
   "cell_type": "code",
   "execution_count": 15,
   "id": "d2ce089b",
   "metadata": {},
   "outputs": [],
   "source": [
    "train_features, test_features, train_labels, test_labels = \\\n",
    "train_test_split(features, labels, test_size = 0.25, random_state = 1202)"
   ]
  },
  {
   "cell_type": "markdown",
   "id": "993e7522",
   "metadata": {},
   "source": [
    "## RF Classifier \n",
    "    Here we are testing a simple Random Forest Classifier"
   ]
  },
  {
   "cell_type": "markdown",
   "id": "82a29317",
   "metadata": {},
   "source": [
    "### Model"
   ]
  },
  {
   "cell_type": "code",
   "execution_count": 16,
   "id": "52575740",
   "metadata": {},
   "outputs": [],
   "source": [
    "rf_c = RandomForestClassifier(n_estimators = 100, random_state = 1202)"
   ]
  },
  {
   "cell_type": "code",
   "execution_count": 17,
   "id": "ffa8e218",
   "metadata": {},
   "outputs": [
    {
     "name": "stdout",
     "output_type": "stream",
     "text": [
      "Wall time: 1min 14s\n"
     ]
    },
    {
     "data": {
      "text/plain": [
       "RandomForestClassifier(random_state=1202)"
      ]
     },
     "execution_count": 17,
     "metadata": {},
     "output_type": "execute_result"
    }
   ],
   "source": [
    "%%time\n",
    "rf_c.fit(train_features, train_labels)"
   ]
  },
  {
   "cell_type": "markdown",
   "id": "5f2e9bce",
   "metadata": {},
   "source": [
    "### Accuracy"
   ]
  },
  {
   "cell_type": "code",
   "execution_count": 18,
   "id": "6442e7dd",
   "metadata": {},
   "outputs": [],
   "source": [
    "predictions_c = rf_c.predict(test_features)"
   ]
  },
  {
   "cell_type": "code",
   "execution_count": 19,
   "id": "1c9e5925",
   "metadata": {},
   "outputs": [
    {
     "data": {
      "text/plain": [
       "True"
      ]
     },
     "execution_count": 19,
     "metadata": {},
     "output_type": "execute_result"
    }
   ],
   "source": [
    "len(predictions_c) == len(test_labels)"
   ]
  },
  {
   "cell_type": "code",
   "execution_count": 20,
   "id": "dd6d2a91",
   "metadata": {},
   "outputs": [],
   "source": [
    "correct_c = 0\n",
    "wrong_c = []\n",
    "for i in range(len(predictions_c)):\n",
    "    if predictions_c[i] == test_labels[i]:\n",
    "        correct_c += 1\n",
    "    else:\n",
    "        wrong_c.append([test_labels[i],predictions_c[i]])"
   ]
  },
  {
   "cell_type": "code",
   "execution_count": 21,
   "id": "721e6208",
   "metadata": {},
   "outputs": [
    {
     "name": "stdout",
     "output_type": "stream",
     "text": [
      "Accuracy of Model: 99.02\n"
     ]
    }
   ],
   "source": [
    "percent_correct_c = round((correct_c/len(predictions_c))*100,2)\n",
    "print(f\"Accuracy of Model: {percent_correct_c}\")"
   ]
  },
  {
   "cell_type": "code",
   "execution_count": 22,
   "id": "1ce98b17",
   "metadata": {},
   "outputs": [],
   "source": [
    "flagged_benign_c = 0\n",
    "ignored_malicious_c = 0\n",
    "for bad_prediction in wrong_c:\n",
    "    if (bad_prediction[0] == 1) & (bad_prediction[1] == 0):\n",
    "        flagged_benign_c += 1\n",
    "    elif (bad_prediction[0] == 0) & (bad_prediction[1] == 1):\n",
    "        ignored_malicious_c += 1\n",
    "    else:\n",
    "        print(\"ISSUE: \", bad_prediction)\n",
    "        break"
   ]
  },
  {
   "cell_type": "code",
   "execution_count": 23,
   "id": "9d9b1fe4",
   "metadata": {},
   "outputs": [
    {
     "name": "stdout",
     "output_type": "stream",
     "text": [
      "Accuracy of Classifier is: 99.02%\n",
      "There were 530 units wrongly classified out of 54088\n",
      "We flagged 286 benign files and let 244 malicious files slip by\n"
     ]
    }
   ],
   "source": [
    "print(f\"Accuracy of Classifier is: {percent_correct_c}%\")\n",
    "print(f\"There were {len(wrong_c)} units wrongly classified out of {len(predictions_c)}\")\n",
    "print(f\"We flagged {flagged_benign_c} benign files and let {ignored_malicious_c} malicious files slip by\")"
   ]
  },
  {
   "cell_type": "markdown",
   "id": "1f5f73c9",
   "metadata": {},
   "source": [
    "### Save Results"
   ]
  },
  {
   "cell_type": "code",
   "execution_count": 24,
   "id": "0a5fa6c2",
   "metadata": {},
   "outputs": [],
   "source": [
    "# Save the model\n",
    "pickle.dump(rf_c, open(\"RF_Classifier.sav\", 'wb'))\n",
    " \n",
    "# load the model\n",
    "# rf_c = pickle.load(open(\"RF_Classifier.sav\", 'rb'))"
   ]
  },
  {
   "cell_type": "markdown",
   "id": "ebe56e8d",
   "metadata": {},
   "source": [
    "## Regression "
   ]
  },
  {
   "cell_type": "markdown",
   "id": "222868c7",
   "metadata": {},
   "source": [
    "### Model"
   ]
  },
  {
   "cell_type": "code",
   "execution_count": 25,
   "id": "a33caf2e",
   "metadata": {},
   "outputs": [],
   "source": [
    "rf_r = RandomForestRegressor(n_estimators = 100, random_state = 1202)"
   ]
  },
  {
   "cell_type": "code",
   "execution_count": 26,
   "id": "1a64a730",
   "metadata": {},
   "outputs": [
    {
     "name": "stdout",
     "output_type": "stream",
     "text": [
      "Wall time: 10min 40s\n"
     ]
    },
    {
     "data": {
      "text/plain": [
       "RandomForestRegressor(random_state=1202)"
      ]
     },
     "execution_count": 26,
     "metadata": {},
     "output_type": "execute_result"
    }
   ],
   "source": [
    "%%time\n",
    "rf_r.fit(train_features, train_labels)"
   ]
  },
  {
   "cell_type": "code",
   "execution_count": 27,
   "id": "080af3cb",
   "metadata": {},
   "outputs": [],
   "source": [
    "predictions_r = rf_r.predict(test_features)"
   ]
  },
  {
   "cell_type": "code",
   "execution_count": 28,
   "id": "df7d8a6a",
   "metadata": {},
   "outputs": [
    {
     "data": {
      "text/plain": [
       "True"
      ]
     },
     "execution_count": 28,
     "metadata": {},
     "output_type": "execute_result"
    }
   ],
   "source": [
    "len(predictions_r) == len(test_labels)"
   ]
  },
  {
   "cell_type": "markdown",
   "id": "fe2c7b6e",
   "metadata": {},
   "source": [
    "### Convert Regression Results to Binary Labels\n",
    "    The regression model, when used in the binary setting, provides a value that we can interpret as a probability of a file being benign or Malicious\n",
    "    \n",
    "    A score of 1 is confidently benign ... A score of 0 is confidently malicious\n",
    "    \n",
    "    However, a score of 0.3 is mostly malicious, while 0.8 is mostly benign\n",
    "    \n",
    "    One of the problems we saw in the classifier is the high number of benign files labeled as malicious \n",
    "    \n",
    "    To prevent these issues, we can set our thresholds to flag files that the model REALLY thinks are malicious. "
   ]
  },
  {
   "cell_type": "code",
   "execution_count": 29,
   "id": "56252113",
   "metadata": {},
   "outputs": [
    {
     "data": {
      "text/plain": [
       "array([0.  , 0.  , 1.  , ..., 1.  , 0.98, 0.  ])"
      ]
     },
     "execution_count": 29,
     "metadata": {},
     "output_type": "execute_result"
    }
   ],
   "source": [
    "predictions_r"
   ]
  },
  {
   "cell_type": "code",
   "execution_count": 56,
   "id": "99446dbf",
   "metadata": {},
   "outputs": [],
   "source": [
    "threshold = 0.25"
   ]
  },
  {
   "cell_type": "code",
   "execution_count": 57,
   "id": "694cdc90",
   "metadata": {},
   "outputs": [],
   "source": [
    "sorted_predictions = []\n",
    "for value in predictions_r:\n",
    "    if value < threshold:\n",
    "        sorted_predictions.append(0)\n",
    "    else:\n",
    "        sorted_predictions.append(1)"
   ]
  },
  {
   "cell_type": "markdown",
   "id": "f45845ef",
   "metadata": {},
   "source": [
    "### Accuracy"
   ]
  },
  {
   "cell_type": "code",
   "execution_count": 58,
   "id": "31e9ca19",
   "metadata": {},
   "outputs": [],
   "source": [
    "correct_r = 0\n",
    "wrong_r = []\n",
    "for i in range(len(sorted_predictions)):\n",
    "    if sorted_predictions[i] == test_labels[i]:\n",
    "        correct_r += 1\n",
    "    else:\n",
    "        wrong_r.append([test_labels[i],sorted_predictions[i]])"
   ]
  },
  {
   "cell_type": "code",
   "execution_count": 59,
   "id": "bcaf6dbc",
   "metadata": {},
   "outputs": [
    {
     "name": "stdout",
     "output_type": "stream",
     "text": [
      "Accuracy of Model: 98.51\n"
     ]
    }
   ],
   "source": [
    "percent_correct_r = round((correct_r/len(predictions_r))*100,2)\n",
    "print(f\"Accuracy of Model: {percent_correct_r}\")"
   ]
  },
  {
   "cell_type": "code",
   "execution_count": 60,
   "id": "bf1cd377",
   "metadata": {},
   "outputs": [],
   "source": [
    "flagged_benign_r = 0\n",
    "ignored_malicious_r = 0\n",
    "for bad_prediction in wrong_r:\n",
    "    if (bad_prediction[0] == 1) & (bad_prediction[1] == 0):\n",
    "        flagged_benign_r += 1\n",
    "    elif (bad_prediction[0] == 0) & (bad_prediction[1] == 1):\n",
    "        ignored_malicious_r += 1\n",
    "    else:\n",
    "        print(\"ISSUE: \", bad_prediction)\n",
    "        break"
   ]
  },
  {
   "cell_type": "code",
   "execution_count": 61,
   "id": "a5af8dc8",
   "metadata": {},
   "outputs": [
    {
     "name": "stdout",
     "output_type": "stream",
     "text": [
      "Accuracy of Classifier is: 98.51%\n",
      "There were 807 units wrongly classified out of 54088\n",
      "We flagged 130 benign files and let 677 malicious files slip by\n"
     ]
    }
   ],
   "source": [
    "print(f\"Accuracy of Classifier is: {percent_correct_r}%\")\n",
    "print(f\"There were {len(wrong_r)} units wrongly classified out of {len(predictions_r)}\")\n",
    "print(f\"We flagged {flagged_benign_r} benign files and let {ignored_malicious_r} malicious files slip by\")"
   ]
  },
  {
   "cell_type": "markdown",
   "id": "2be3f90c",
   "metadata": {},
   "source": [
    "### Save Results"
   ]
  },
  {
   "cell_type": "code",
   "execution_count": 37,
   "id": "d783e3bb",
   "metadata": {},
   "outputs": [],
   "source": [
    "# Save the model\n",
    "pickle.dump(rf_r, open(\"RF_Regression.sav\", 'wb'))\n",
    " \n",
    "# load the model\n",
    "# rf_r = pickle.load(open(\"RF_Regression.sav\", 'rb'))"
   ]
  },
  {
   "cell_type": "markdown",
   "id": "f8bad5d9",
   "metadata": {},
   "source": [
    "## Compare Classifier against Regression"
   ]
  },
  {
   "cell_type": "code",
   "execution_count": 69,
   "id": "c9d66420",
   "metadata": {},
   "outputs": [
    {
     "name": "stdout",
     "output_type": "stream",
     "text": [
      "The RF Classifier has an accuracy of: 99.02\n",
      "The RF Regression (with threshold) has an accuracy of: 98.51\n",
      "Delta of: 0.51%\n",
      "However, the number of false positives (benign files marked as malicious) decreased from: 286 to 130\n",
      "Consequently, the number of false negatives increased from: 244 to 677\n"
     ]
    }
   ],
   "source": [
    "print(f\"The RF Classifier has an accuracy of: {percent_correct_c}\")\n",
    "print(f\"The RF Regression (with threshold) has an accuracy of: {percent_correct_r}\")\n",
    "print(f\"Delta of: {round(percent_correct_c-percent_correct_r,3)}%\")\n",
    "print(f\"However, the number of false positives (benign files marked as malicious) decreased from: {flagged_benign_c} to {flagged_benign_r}\")\n",
    "print(f\"Consequently, the number of false negatives increased from: {ignored_malicious_c} to {ignored_malicious_r}\")"
   ]
  },
  {
   "cell_type": "markdown",
   "id": "03043635",
   "metadata": {},
   "source": [
    "## Convert Files to Images\n",
    "    This is the start of our work for malware detection via image classifying"
   ]
  },
  {
   "cell_type": "code",
   "execution_count": null,
   "id": "31746953",
   "metadata": {},
   "outputs": [],
   "source": [
    "clean_file = \"\""
   ]
  },
  {
   "cell_type": "code",
   "execution_count": null,
   "id": "f6ed9a72",
   "metadata": {},
   "outputs": [],
   "source": [
    "malicious_file = \"\""
   ]
  },
  {
   "cell_type": "code",
   "execution_count": null,
   "id": "014573dc",
   "metadata": {},
   "outputs": [],
   "source": [
    "with open(clean_file, mode='rb') as f:\n",
    "    imageData = np.fromfile(f,dtype=np.uint8,count=width*height).reshape(height,width)"
   ]
  },
  {
   "cell_type": "code",
   "execution_count": null,
   "id": "54b6db60",
   "metadata": {},
   "outputs": [],
   "source": [
    "PILimage = Image.fromarray(imageData)\n",
    "PILimage.save('clean_image.png')"
   ]
  },
  {
   "cell_type": "code",
   "execution_count": null,
   "id": "c88e6636",
   "metadata": {},
   "outputs": [],
   "source": [
    "with open(malicious_file, mode='rb') as f:\n",
    "    imageData = np.fromfile(f,dtype=np.uint8,count=width*height).reshape(height,width)"
   ]
  },
  {
   "cell_type": "code",
   "execution_count": null,
   "id": "e3b05e37",
   "metadata": {},
   "outputs": [],
   "source": [
    "PILimage = Image.fromarray(imageData)\n",
    "PILimage.save('malicious_image.png')"
   ]
  },
  {
   "cell_type": "markdown",
   "id": "80dd9094",
   "metadata": {},
   "source": [
    "# What we have done"
   ]
  },
  {
   "cell_type": "markdown",
   "id": "47ecb240",
   "metadata": {},
   "source": [
    "## Researched related Work \n",
    "\n",
    "### Malware detection using machine learning\n",
    "    D. Gavriluţ, M. Cimpoeşu, D. Anton and L. Ciortuz\n",
    "\n",
    "https://ieeexplore.ieee.org/abstract/document/5352759 \n",
    "    \n",
    "A versatile framework that deploys several machine learning algorithms to detect potentially malicious files while minimizing the number of false positives  \n",
    "\n",
    "\n",
    "### Robust Intelligent Malware Detection Using Deep Learning\n",
    "    R. Vinayakumar, M. Alazab, K. P. Soman, P. Poornachandran and S. Venkatraman\n",
    "\n",
    "https://ieeexplore.ieee.org/abstract/document/8681127\n",
    "    \n",
    "Compares ML techniques against Deep Learning. Proposes how image classifiers can be used in malware file detection systems \n",
    "\n",
    "\n",
    "### Malware Detection Using Machine Learning and Deep Learning\n",
    "    Hemant Rathore, Swati Agarwal, Sanjay K. Sahay, Mohit Sewak\n",
    "\n",
    "https://link.springer.com/chapter/10.1007/978-3-030-04780-1_28 \n",
    "    \n",
    "Argues that ML techniques can be more effective than proposed Deep Learning Models. Making the claim that Deep Learning is often overkill and that Random Forest can outperform other solutions with the presence of certain features and techniques"
   ]
  },
  {
   "cell_type": "markdown",
   "id": "f3c1b2dc",
   "metadata": {},
   "source": [
    "### Collect Datasets"
   ]
  },
  {
   "cell_type": "markdown",
   "id": "eaa6a892",
   "metadata": {},
   "source": [
    "https://www.kaggle.com/competitions/malware-detection/data?select=data.csv - numeric modeling data of key file information\n",
    "    \n",
    "https://github.com/sophos/SOREL-20M  - Labeled and tagged malware files\n",
    "    \n",
    "https://labs.inquest.net/  - Strong file analyzer and file search engine\n",
    "    \n",
    "https://www.hybrid-analysis.com/  - Strong file analyzer\n",
    "    \n",
    "https://bazaar.abuse.ch/  - Database is designed to support modeling"
   ]
  },
  {
   "cell_type": "markdown",
   "id": "0b2e6639",
   "metadata": {},
   "source": [
    "### Modeling\n",
    "\n",
    "    We have implemented and started tweaking the RF Classifier\n",
    "    \n",
    "    We have implemented and started tweaking the RF Regression\n",
    "    \n",
    "    We are comparing our current Solutions, looking for areas of improvment "
   ]
  },
  {
   "cell_type": "markdown",
   "id": "46947af8",
   "metadata": {},
   "source": [
    "# What we plan to do\n",
    "\n",
    "1) Try to improve our modeling by utilizing a Deep Learning solution to employ Image Classifiers on files to learn patterns of malicious files in order to more dynamically detect malicious files\n",
    "\n",
    "2) Work on improving our Random Forest solutions\n",
    "\n",
    "3) Work on learning more about the features being used for modeling in order to implement more custom logic\n",
    "\n",
    "4) Convert our solution into a useable tool"
   ]
  },
  {
   "cell_type": "markdown",
   "id": "243e5c3a",
   "metadata": {},
   "source": [
    "# Demo \n",
    "    For full logic, see top of Notebook\n",
    "    \n",
    "    We will execute this during our presentation"
   ]
  },
  {
   "cell_type": "markdown",
   "id": "b0f4f5af",
   "metadata": {},
   "source": [
    "## Summary"
   ]
  },
  {
   "cell_type": "code",
   "execution_count": 70,
   "id": "51a5fbb9",
   "metadata": {},
   "outputs": [
    {
     "name": "stdout",
     "output_type": "stream",
     "text": [
      "The RF Classifier has an accuracy of: 99.02\n",
      "The RF Regression (with threshold) has an accuracy of: 98.51\n",
      "Delta of: 0.51%\n",
      "However, the number of false positives (benign files marked as malicious) decreased from: 286 to 130\n",
      "Consequently, the number of false negatives increased from: 244 to 677\n"
     ]
    }
   ],
   "source": [
    "# Summary\n",
    "print(f\"The RF Classifier has an accuracy of: {percent_correct_c}\")\n",
    "print(f\"The RF Regression (with threshold) has an accuracy of: {percent_correct_r}\")\n",
    "print(f\"Delta of: {round(percent_correct_c-percent_correct_r,3)}%\")\n",
    "print(f\"However, the number of false positives (benign files marked as malicious) decreased from: {flagged_benign_c} to {flagged_benign_r}\")\n",
    "print(f\"Consequently, the number of false negatives increased from: {ignored_malicious_c} to {ignored_malicious_r}\")"
   ]
  },
  {
   "cell_type": "markdown",
   "id": "2022829b",
   "metadata": {},
   "source": [
    "## Example of Using the Model"
   ]
  },
  {
   "cell_type": "code",
   "execution_count": 71,
   "id": "e3b527bd",
   "metadata": {},
   "outputs": [],
   "source": [
    "# Load in Regression Model\n",
    "rf_r = pickle.load(open(\"RF_Regression.sav\", 'rb'))"
   ]
  },
  {
   "cell_type": "code",
   "execution_count": 72,
   "id": "b3b08d25",
   "metadata": {},
   "outputs": [],
   "source": [
    "predictions_demo = rf_r.predict(test_features)"
   ]
  },
  {
   "cell_type": "code",
   "execution_count": 79,
   "id": "6dc35c77",
   "metadata": {},
   "outputs": [
    {
     "data": {
      "text/plain": [
       "array([0.  , 0.  , 1.  , 0.  , 0.  , 0.  , 0.  , 0.07, 0.  , 0.  , 0.  ,\n",
       "       1.  , 0.  , 0.  , 0.  , 0.  , 1.  , 1.  , 0.  , 0.  ])"
      ]
     },
     "execution_count": 79,
     "metadata": {},
     "output_type": "execute_result"
    }
   ],
   "source": [
    "predictions_demo[:20]"
   ]
  },
  {
   "cell_type": "code",
   "execution_count": 80,
   "id": "448cf352",
   "metadata": {},
   "outputs": [
    {
     "data": {
      "text/plain": [
       "array([0, 0, 1, 0, 0, 0, 0, 0, 0, 0, 0, 1, 0, 0, 0, 0, 1, 1, 0, 0],\n",
       "      dtype=int64)"
      ]
     },
     "execution_count": 80,
     "metadata": {},
     "output_type": "execute_result"
    }
   ],
   "source": [
    "test_labels[:20]"
   ]
  },
  {
   "cell_type": "markdown",
   "id": "4ba92fa1",
   "metadata": {},
   "source": [
    "## Feature Importance\n",
    "    Breaking down the models to see which features they deem essential to classifying these files"
   ]
  },
  {
   "cell_type": "markdown",
   "id": "08671776",
   "metadata": {},
   "source": [
    "### Classifier"
   ]
  },
  {
   "cell_type": "code",
   "execution_count": 83,
   "id": "4474b9c2",
   "metadata": {},
   "outputs": [
    {
     "name": "stdout",
     "output_type": "stream",
     "text": [
      "Top 10 Features for RF Classifier\n",
      "Variable: ImageBase            Importance: 0.15\n",
      "Variable: Characteristics      Importance: 0.1\n",
      "Variable: SizeOfStackReserve   Importance: 0.08\n",
      "Variable: MajorOperatingSystemVersion Importance: 0.06\n",
      "Variable: Subsystem            Importance: 0.06\n",
      "Variable: ResourcesMinSize     Importance: 0.06\n",
      "Variable: ExportNb             Importance: 0.05\n",
      "Variable: MajorSubsystemVersion Importance: 0.03\n",
      "Variable: CheckSum             Importance: 0.03\n",
      "Variable: SectionsMaxEntropy   Importance: 0.03\n"
     ]
    }
   ],
   "source": [
    "# Get numerical feature importances\n",
    "importances = list(rf_c.feature_importances_)\n",
    "# List of tuples with variable and importance\n",
    "feature_importances = [(feature, round(importance, 2)) for feature, importance in zip(feature_list, importances)]\n",
    "# Sort the feature importances by most important first\n",
    "feature_importances = sorted(feature_importances, key = lambda x: x[1], reverse = True)\n",
    "# Print out the feature and importances \n",
    "print(\"Top 10 Features for RF Classifier\")\n",
    "[print('Variable: {:20} Importance: {}'.format(*pair)) for pair in feature_importances[:10]];"
   ]
  },
  {
   "cell_type": "markdown",
   "id": "a2f62838",
   "metadata": {},
   "source": [
    "### Regression"
   ]
  },
  {
   "cell_type": "code",
   "execution_count": 84,
   "id": "ba129ac1",
   "metadata": {
    "scrolled": true
   },
   "outputs": [
    {
     "name": "stdout",
     "output_type": "stream",
     "text": [
      "Top 10 Features for RF Regression\n",
      "Variable: ImageBase            Importance: 0.65\n",
      "Variable: Subsystem            Importance: 0.08\n",
      "Variable: CheckSum             Importance: 0.05\n",
      "Variable: AddressOfEntryPoint  Importance: 0.03\n",
      "Variable: MajorOperatingSystemVersion Importance: 0.03\n",
      "Variable: Characteristics      Importance: 0.01\n",
      "Variable: SizeOfCode           Importance: 0.01\n",
      "Variable: MajorImageVersion    Importance: 0.01\n",
      "Variable: SectionsNb           Importance: 0.01\n",
      "Variable: SectionsMeanEntropy  Importance: 0.01\n"
     ]
    }
   ],
   "source": [
    "# Get numerical feature importances\n",
    "importances = list(rf_r.feature_importances_)\n",
    "# List of tuples with variable and importance\n",
    "feature_importances = [(feature, round(importance, 2)) for feature, importance in zip(feature_list, importances)]\n",
    "# Sort the feature importances by most important first\n",
    "feature_importances = sorted(feature_importances, key = lambda x: x[1], reverse = True)\n",
    "# Print out the feature and importances \n",
    "print(\"Top 10 Features for RF Regression\")\n",
    "[print('Variable: {:20} Importance: {}'.format(*pair)) for pair in feature_importances[:10]];"
   ]
  },
  {
   "cell_type": "markdown",
   "id": "7a51d697",
   "metadata": {},
   "source": [
    "## Converting Files to Images"
   ]
  },
  {
   "cell_type": "code",
   "execution_count": null,
   "id": "a75dd14d",
   "metadata": {},
   "outputs": [],
   "source": [
    "display(Image.open('clean_image.png'))"
   ]
  },
  {
   "cell_type": "code",
   "execution_count": null,
   "id": "11c043eb",
   "metadata": {},
   "outputs": [],
   "source": [
    "display(Image.open('malicious_image.png'))"
   ]
  }
 ],
 "metadata": {
  "kernelspec": {
   "display_name": "Python 3 (ipykernel)",
   "language": "python",
   "name": "python3"
  },
  "language_info": {
   "codemirror_mode": {
    "name": "ipython",
    "version": 3
   },
   "file_extension": ".py",
   "mimetype": "text/x-python",
   "name": "python",
   "nbconvert_exporter": "python",
   "pygments_lexer": "ipython3",
   "version": "3.7.1"
  },
  "toc": {
   "base_numbering": 1,
   "nav_menu": {},
   "number_sections": true,
   "sideBar": true,
   "skip_h1_title": false,
   "title_cell": "Table of Contents",
   "title_sidebar": "Contents",
   "toc_cell": true,
   "toc_position": {
    "height": "calc(100% - 180px)",
    "left": "10px",
    "top": "150px",
    "width": "315px"
   },
   "toc_section_display": true,
   "toc_window_display": true
  }
 },
 "nbformat": 4,
 "nbformat_minor": 5
}
