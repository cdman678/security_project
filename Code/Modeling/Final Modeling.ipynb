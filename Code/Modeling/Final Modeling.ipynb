{
 "cells": [
  {
   "cell_type": "markdown",
   "id": "28511dee",
   "metadata": {},
   "source": [
    "# Imports / Parameters"
   ]
  },
  {
   "cell_type": "code",
   "execution_count": 1,
   "id": "d4aefc98",
   "metadata": {},
   "outputs": [],
   "source": [
    "import pandas as pd\n",
    "import numpy as np\n",
    "import random\n",
    "import pickle\n",
    "\n",
    "from sklearn.model_selection import train_test_split\n",
    "\n",
    "# from sklearn.ensemble import RandomForestRegressor\n",
    "from sklearn.ensemble import RandomForestClassifier\n",
    "from sklearn.tree import export_graphviz\n",
    "from sklearn.preprocessing import StandardScaler\n",
    "from sklearn.decomposition import PCA\n",
    "from sklearn.preprocessing import MinMaxScaler\n",
    "\n",
    "pd.set_option('display.max_columns', None)"
   ]
  },
  {
   "cell_type": "code",
   "execution_count": 2,
   "id": "fa0f1a01",
   "metadata": {},
   "outputs": [],
   "source": [
    "data_path = r\"C:\\Users\\caleb\\PycharmProjects\\security_project\\security_project\\Data\\extended_dike_modeling.p\""
   ]
  },
  {
   "cell_type": "markdown",
   "id": "ad04f985",
   "metadata": {},
   "source": [
    "# Functions"
   ]
  },
  {
   "cell_type": "code",
   "execution_count": 3,
   "id": "f20e4808",
   "metadata": {},
   "outputs": [],
   "source": [
    "def set_label(vec, grouping = \"generic\"):\n",
    "    # If include_generic is True then we allow the usage of the \"generic\" label for malicious files\n",
    "    # Otherwise, we exclude the generic label\n",
    "    \n",
    "    return_value = None\n",
    "    if vec[0] == \"benign\":\n",
    "        return_value = \"benign\"\n",
    "    else:\n",
    "        # Use the labels provided in the Dike dataset\n",
    "        if grouping == \"raw\":\n",
    "            possible_labels = vec[1:]\n",
    "            lookup_dic = {\n",
    "                0:\"generic\",\n",
    "                1:\"trojan\",\n",
    "                2:\"ransomware\",\n",
    "                3:\"worm\",\n",
    "                4:\"backdoor\",\n",
    "                5:\"spyware\",\n",
    "                6:\"rootkit\",\n",
    "                7:\"encrypter\",\n",
    "                8:\"downloader\"\n",
    "            }\n",
    "        # If the file is trojan, label as trojan. Otherwise, label as generic\n",
    "        elif grouping == \"generic\":\n",
    "            possible_labels = vec[1:]\n",
    "            lookup_dic = {\n",
    "                0:\"generic\",\n",
    "                1:\"trojan\",\n",
    "                2:\"generic\",\n",
    "                3:\"generic\",\n",
    "                4:\"generic\",\n",
    "                5:\"generic\",\n",
    "                6:\"generic\",\n",
    "                7:\"generic\",\n",
    "                8:\"generic\"\n",
    "            }  \n",
    "        # Return all malicious files as \"Generic\"\n",
    "        elif grouping == \"generic_all\":\n",
    "            possible_labels = vec[1:]\n",
    "            lookup_dic = {\n",
    "                0:\"generic\",\n",
    "                1:\"generic\",\n",
    "                2:\"generic\",\n",
    "                3:\"generic\",\n",
    "                4:\"generic\",\n",
    "                5:\"generic\",\n",
    "                6:\"generic\",\n",
    "                7:\"generic\",\n",
    "                8:\"generic\"\n",
    "            } \n",
    "        # Use raw labels but exclude generic label when calculating classification\n",
    "        elif grouping == \"exclude_generic\":\n",
    "            possible_labels = vec[2:]\n",
    "            lookup_dic = {\n",
    "                0:\"trojan\",\n",
    "                1:\"ransomware\",\n",
    "                2:\"worm\",\n",
    "                3:\"backdoor\",\n",
    "                4:\"spyware\",\n",
    "                5:\"rootkit\",\n",
    "                6:\"encrypter\",\n",
    "                7:\"downloader\"\n",
    "            }            \n",
    "            \n",
    "        index_max = max(range(len(possible_labels)), key=possible_labels.__getitem__)\n",
    "        \n",
    "        return_value = lookup_dic[index_max]\n",
    "            \n",
    "    return return_value"
   ]
  },
  {
   "cell_type": "markdown",
   "id": "4c6cff0d",
   "metadata": {},
   "source": [
    "# Get Data"
   ]
  },
  {
   "cell_type": "code",
   "execution_count": 4,
   "id": "955c808b",
   "metadata": {},
   "outputs": [],
   "source": [
    "base_df = pd.read_pickle(data_path)"
   ]
  },
  {
   "cell_type": "code",
   "execution_count": 5,
   "id": "a350455a",
   "metadata": {},
   "outputs": [
    {
     "data": {
      "text/html": [
       "<div>\n",
       "<style scoped>\n",
       "    .dataframe tbody tr th:only-of-type {\n",
       "        vertical-align: middle;\n",
       "    }\n",
       "\n",
       "    .dataframe tbody tr th {\n",
       "        vertical-align: top;\n",
       "    }\n",
       "\n",
       "    .dataframe thead th {\n",
       "        text-align: right;\n",
       "    }\n",
       "</style>\n",
       "<table border=\"1\" class=\"dataframe\">\n",
       "  <thead>\n",
       "    <tr style=\"text-align: right;\">\n",
       "      <th></th>\n",
       "      <th>hash</th>\n",
       "      <th>source</th>\n",
       "      <th>type</th>\n",
       "      <th>ID</th>\n",
       "      <th>md5</th>\n",
       "      <th>Machine</th>\n",
       "      <th>SizeOfOptionalHeader</th>\n",
       "      <th>Characteristics</th>\n",
       "      <th>MajorLinkerVersion</th>\n",
       "      <th>MinorLinkerVersion</th>\n",
       "      <th>SizeOfCode</th>\n",
       "      <th>SizeOfInitializedData</th>\n",
       "      <th>SizeOfUninitializedData</th>\n",
       "      <th>AddressOfEntryPoint</th>\n",
       "      <th>BaseOfCode</th>\n",
       "      <th>BaseOfData</th>\n",
       "      <th>ImageBase</th>\n",
       "      <th>SectionAlignment</th>\n",
       "      <th>FileAlignment</th>\n",
       "      <th>MajorOperatingSystemVersion</th>\n",
       "      <th>MinorOperatingSystemVersion</th>\n",
       "      <th>MajorImageVersion</th>\n",
       "      <th>MinorImageVersion</th>\n",
       "      <th>MajorSubsystemVersion</th>\n",
       "      <th>MinorSubsystemVersion</th>\n",
       "      <th>SizeOfImage</th>\n",
       "      <th>SizeOfHeaders</th>\n",
       "      <th>CheckSum</th>\n",
       "      <th>Subsystem</th>\n",
       "      <th>DllCharacteristics</th>\n",
       "      <th>SizeOfStackReserve</th>\n",
       "      <th>SizeOfStackCommit</th>\n",
       "      <th>SizeOfHeapReserve</th>\n",
       "      <th>SizeOfHeapCommit</th>\n",
       "      <th>LoaderFlags</th>\n",
       "      <th>NumberOfRvaAndSizes</th>\n",
       "      <th>SectionsNb</th>\n",
       "      <th>SectionsMeanEntropy</th>\n",
       "      <th>SectionsMinEntropy</th>\n",
       "      <th>SectionsMaxEntropy</th>\n",
       "      <th>SectionsMeanRawsize</th>\n",
       "      <th>SectionsMinRawsize</th>\n",
       "      <th>SectionMaxRawsize</th>\n",
       "      <th>SectionsMeanVirtualsize</th>\n",
       "      <th>SectionsMinVirtualsize</th>\n",
       "      <th>SectionMaxVirtualsize</th>\n",
       "      <th>ImportsNbDLL</th>\n",
       "      <th>ImportsNb</th>\n",
       "      <th>ImportsNbOrdinal</th>\n",
       "      <th>ExportNb</th>\n",
       "      <th>ResourcesNb</th>\n",
       "      <th>ResourcesMeanEntropy</th>\n",
       "      <th>ResourcesMinEntropy</th>\n",
       "      <th>ResourcesMaxEntropy</th>\n",
       "      <th>ResourcesMeanSize</th>\n",
       "      <th>ResourcesMinSize</th>\n",
       "      <th>ResourcesMaxSize</th>\n",
       "      <th>LoadConfigurationSize</th>\n",
       "      <th>VersionInformationSize</th>\n",
       "      <th>legitimate</th>\n",
       "      <th>malice</th>\n",
       "      <th>generic</th>\n",
       "      <th>trojan</th>\n",
       "      <th>ransomware</th>\n",
       "      <th>worm</th>\n",
       "      <th>backdoor</th>\n",
       "      <th>spyware</th>\n",
       "      <th>rootkit</th>\n",
       "      <th>encrypter</th>\n",
       "      <th>downloader</th>\n",
       "    </tr>\n",
       "  </thead>\n",
       "  <tbody>\n",
       "    <tr>\n",
       "      <th>0</th>\n",
       "      <td>012a50629c3cf1e2a2e5133b729c2ac7765cf4115187b1...</td>\n",
       "      <td>malware</td>\n",
       "      <td>0</td>\n",
       "      <td>1</td>\n",
       "      <td>dd7b1c66faa1bde0a42a868acafefcb3</td>\n",
       "      <td>332</td>\n",
       "      <td>224</td>\n",
       "      <td>271</td>\n",
       "      <td>6</td>\n",
       "      <td>0</td>\n",
       "      <td>36864</td>\n",
       "      <td>380928</td>\n",
       "      <td>0</td>\n",
       "      <td>5616</td>\n",
       "      <td>4096</td>\n",
       "      <td>40960</td>\n",
       "      <td>4194304</td>\n",
       "      <td>4096</td>\n",
       "      <td>4096</td>\n",
       "      <td>4</td>\n",
       "      <td>0</td>\n",
       "      <td>0</td>\n",
       "      <td>0</td>\n",
       "      <td>4</td>\n",
       "      <td>0</td>\n",
       "      <td>823296</td>\n",
       "      <td>4096</td>\n",
       "      <td>0</td>\n",
       "      <td>2</td>\n",
       "      <td>0</td>\n",
       "      <td>1048576</td>\n",
       "      <td>4096</td>\n",
       "      <td>1048576</td>\n",
       "      <td>4096</td>\n",
       "      <td>0</td>\n",
       "      <td>16</td>\n",
       "      <td>4</td>\n",
       "      <td>4.804751</td>\n",
       "      <td>0.707497</td>\n",
       "      <td>7.904654</td>\n",
       "      <td>104448.0</td>\n",
       "      <td>8192</td>\n",
       "      <td>360448</td>\n",
       "      <td>202528.5</td>\n",
       "      <td>14300</td>\n",
       "      <td>402506</td>\n",
       "      <td>4</td>\n",
       "      <td>62</td>\n",
       "      <td>0</td>\n",
       "      <td>0</td>\n",
       "      <td>5</td>\n",
       "      <td>3.041344</td>\n",
       "      <td>1.781496</td>\n",
       "      <td>6.505338</td>\n",
       "      <td>963.6</td>\n",
       "      <td>20</td>\n",
       "      <td>4264</td>\n",
       "      <td>0</td>\n",
       "      <td>0</td>\n",
       "      <td>None</td>\n",
       "      <td>0.934579</td>\n",
       "      <td>0.320000</td>\n",
       "      <td>0.560000</td>\n",
       "      <td>0.0</td>\n",
       "      <td>0.020000</td>\n",
       "      <td>0.0</td>\n",
       "      <td>0.0</td>\n",
       "      <td>0.0</td>\n",
       "      <td>0.100000</td>\n",
       "      <td>0.000000</td>\n",
       "    </tr>\n",
       "    <tr>\n",
       "      <th>1</th>\n",
       "      <td>018b4029f46e529da8dc57b8bc6245644ed59f63b4f8ea...</td>\n",
       "      <td>malware</td>\n",
       "      <td>0</td>\n",
       "      <td>1</td>\n",
       "      <td>6f6d36db833a383f3836639cad4ddbb1</td>\n",
       "      <td>332</td>\n",
       "      <td>224</td>\n",
       "      <td>271</td>\n",
       "      <td>7</td>\n",
       "      <td>0</td>\n",
       "      <td>24576</td>\n",
       "      <td>420539</td>\n",
       "      <td>397312</td>\n",
       "      <td>6469</td>\n",
       "      <td>4096</td>\n",
       "      <td>28672</td>\n",
       "      <td>4259840</td>\n",
       "      <td>4096</td>\n",
       "      <td>4096</td>\n",
       "      <td>4</td>\n",
       "      <td>0</td>\n",
       "      <td>0</td>\n",
       "      <td>0</td>\n",
       "      <td>4</td>\n",
       "      <td>0</td>\n",
       "      <td>856064</td>\n",
       "      <td>4096</td>\n",
       "      <td>518968</td>\n",
       "      <td>2</td>\n",
       "      <td>0</td>\n",
       "      <td>1048576</td>\n",
       "      <td>4096</td>\n",
       "      <td>1048576</td>\n",
       "      <td>4096</td>\n",
       "      <td>0</td>\n",
       "      <td>16</td>\n",
       "      <td>4</td>\n",
       "      <td>5.768973</td>\n",
       "      <td>2.662357</td>\n",
       "      <td>7.637939</td>\n",
       "      <td>112640.0</td>\n",
       "      <td>16384</td>\n",
       "      <td>376832</td>\n",
       "      <td>211277.5</td>\n",
       "      <td>20756</td>\n",
       "      <td>415160</td>\n",
       "      <td>5</td>\n",
       "      <td>85</td>\n",
       "      <td>0</td>\n",
       "      <td>0</td>\n",
       "      <td>4</td>\n",
       "      <td>5.667223</td>\n",
       "      <td>1.919241</td>\n",
       "      <td>7.95996</td>\n",
       "      <td>8029.5</td>\n",
       "      <td>20</td>\n",
       "      <td>16936</td>\n",
       "      <td>0</td>\n",
       "      <td>0</td>\n",
       "      <td>None</td>\n",
       "      <td>0.923077</td>\n",
       "      <td>0.493506</td>\n",
       "      <td>0.415584</td>\n",
       "      <td>0.0</td>\n",
       "      <td>0.012987</td>\n",
       "      <td>0.0</td>\n",
       "      <td>0.0</td>\n",
       "      <td>0.0</td>\n",
       "      <td>0.077922</td>\n",
       "      <td>0.000000</td>\n",
       "    </tr>\n",
       "    <tr>\n",
       "      <th>2</th>\n",
       "      <td>01a0bea806384827759ae032031516bfe843285cac3980...</td>\n",
       "      <td>malware</td>\n",
       "      <td>0</td>\n",
       "      <td>1</td>\n",
       "      <td>4f105bf3461951a61a770ff1c9577107</td>\n",
       "      <td>332</td>\n",
       "      <td>224</td>\n",
       "      <td>271</td>\n",
       "      <td>7</td>\n",
       "      <td>0</td>\n",
       "      <td>20480</td>\n",
       "      <td>390466</td>\n",
       "      <td>430080</td>\n",
       "      <td>5873</td>\n",
       "      <td>4096</td>\n",
       "      <td>24576</td>\n",
       "      <td>4259840</td>\n",
       "      <td>4096</td>\n",
       "      <td>4096</td>\n",
       "      <td>4</td>\n",
       "      <td>0</td>\n",
       "      <td>0</td>\n",
       "      <td>0</td>\n",
       "      <td>4</td>\n",
       "      <td>0</td>\n",
       "      <td>856064</td>\n",
       "      <td>4096</td>\n",
       "      <td>437261</td>\n",
       "      <td>2</td>\n",
       "      <td>0</td>\n",
       "      <td>1048576</td>\n",
       "      <td>4096</td>\n",
       "      <td>1048576</td>\n",
       "      <td>4096</td>\n",
       "      <td>0</td>\n",
       "      <td>16</td>\n",
       "      <td>4</td>\n",
       "      <td>7.212979</td>\n",
       "      <td>6.636076</td>\n",
       "      <td>7.876911</td>\n",
       "      <td>104448.0</td>\n",
       "      <td>20480</td>\n",
       "      <td>262144</td>\n",
       "      <td>210782.75</td>\n",
       "      <td>20164</td>\n",
       "      <td>532664</td>\n",
       "      <td>4</td>\n",
       "      <td>63</td>\n",
       "      <td>0</td>\n",
       "      <td>0</td>\n",
       "      <td>4</td>\n",
       "      <td>5.648782</td>\n",
       "      <td>1.919241</td>\n",
       "      <td>7.961305</td>\n",
       "      <td>7916.75</td>\n",
       "      <td>20</td>\n",
       "      <td>16936</td>\n",
       "      <td>0</td>\n",
       "      <td>0</td>\n",
       "      <td>None</td>\n",
       "      <td>0.931298</td>\n",
       "      <td>0.452055</td>\n",
       "      <td>0.397260</td>\n",
       "      <td>0.0</td>\n",
       "      <td>0.000000</td>\n",
       "      <td>0.0</td>\n",
       "      <td>0.0</td>\n",
       "      <td>0.0</td>\n",
       "      <td>0.123288</td>\n",
       "      <td>0.027397</td>\n",
       "    </tr>\n",
       "  </tbody>\n",
       "</table>\n",
       "</div>"
      ],
      "text/plain": [
       "                                                hash   source  type ID  \\\n",
       "0  012a50629c3cf1e2a2e5133b729c2ac7765cf4115187b1...  malware     0  1   \n",
       "1  018b4029f46e529da8dc57b8bc6245644ed59f63b4f8ea...  malware     0  1   \n",
       "2  01a0bea806384827759ae032031516bfe843285cac3980...  malware     0  1   \n",
       "\n",
       "                                md5 Machine SizeOfOptionalHeader  \\\n",
       "0  dd7b1c66faa1bde0a42a868acafefcb3     332                  224   \n",
       "1  6f6d36db833a383f3836639cad4ddbb1     332                  224   \n",
       "2  4f105bf3461951a61a770ff1c9577107     332                  224   \n",
       "\n",
       "  Characteristics MajorLinkerVersion MinorLinkerVersion SizeOfCode  \\\n",
       "0             271                  6                  0      36864   \n",
       "1             271                  7                  0      24576   \n",
       "2             271                  7                  0      20480   \n",
       "\n",
       "  SizeOfInitializedData SizeOfUninitializedData AddressOfEntryPoint  \\\n",
       "0                380928                       0                5616   \n",
       "1                420539                  397312                6469   \n",
       "2                390466                  430080                5873   \n",
       "\n",
       "  BaseOfCode BaseOfData ImageBase SectionAlignment FileAlignment  \\\n",
       "0       4096      40960   4194304             4096          4096   \n",
       "1       4096      28672   4259840             4096          4096   \n",
       "2       4096      24576   4259840             4096          4096   \n",
       "\n",
       "  MajorOperatingSystemVersion MinorOperatingSystemVersion MajorImageVersion  \\\n",
       "0                           4                           0                 0   \n",
       "1                           4                           0                 0   \n",
       "2                           4                           0                 0   \n",
       "\n",
       "  MinorImageVersion MajorSubsystemVersion MinorSubsystemVersion SizeOfImage  \\\n",
       "0                 0                     4                     0      823296   \n",
       "1                 0                     4                     0      856064   \n",
       "2                 0                     4                     0      856064   \n",
       "\n",
       "  SizeOfHeaders CheckSum Subsystem DllCharacteristics SizeOfStackReserve  \\\n",
       "0          4096        0         2                  0            1048576   \n",
       "1          4096   518968         2                  0            1048576   \n",
       "2          4096   437261         2                  0            1048576   \n",
       "\n",
       "  SizeOfStackCommit SizeOfHeapReserve SizeOfHeapCommit LoaderFlags  \\\n",
       "0              4096           1048576             4096           0   \n",
       "1              4096           1048576             4096           0   \n",
       "2              4096           1048576             4096           0   \n",
       "\n",
       "  NumberOfRvaAndSizes SectionsNb SectionsMeanEntropy SectionsMinEntropy  \\\n",
       "0                  16          4            4.804751           0.707497   \n",
       "1                  16          4            5.768973           2.662357   \n",
       "2                  16          4            7.212979           6.636076   \n",
       "\n",
       "  SectionsMaxEntropy SectionsMeanRawsize SectionsMinRawsize SectionMaxRawsize  \\\n",
       "0           7.904654            104448.0               8192            360448   \n",
       "1           7.637939            112640.0              16384            376832   \n",
       "2           7.876911            104448.0              20480            262144   \n",
       "\n",
       "  SectionsMeanVirtualsize SectionsMinVirtualsize SectionMaxVirtualsize  \\\n",
       "0                202528.5                  14300                402506   \n",
       "1                211277.5                  20756                415160   \n",
       "2               210782.75                  20164                532664   \n",
       "\n",
       "  ImportsNbDLL ImportsNb ImportsNbOrdinal ExportNb ResourcesNb  \\\n",
       "0            4        62                0        0           5   \n",
       "1            5        85                0        0           4   \n",
       "2            4        63                0        0           4   \n",
       "\n",
       "  ResourcesMeanEntropy ResourcesMinEntropy ResourcesMaxEntropy  \\\n",
       "0             3.041344            1.781496            6.505338   \n",
       "1             5.667223            1.919241             7.95996   \n",
       "2             5.648782            1.919241            7.961305   \n",
       "\n",
       "  ResourcesMeanSize ResourcesMinSize ResourcesMaxSize LoadConfigurationSize  \\\n",
       "0             963.6               20             4264                     0   \n",
       "1            8029.5               20            16936                     0   \n",
       "2           7916.75               20            16936                     0   \n",
       "\n",
       "  VersionInformationSize legitimate    malice   generic    trojan  ransomware  \\\n",
       "0                      0       None  0.934579  0.320000  0.560000         0.0   \n",
       "1                      0       None  0.923077  0.493506  0.415584         0.0   \n",
       "2                      0       None  0.931298  0.452055  0.397260         0.0   \n",
       "\n",
       "       worm  backdoor  spyware  rootkit  encrypter  downloader  \n",
       "0  0.020000       0.0      0.0      0.0   0.100000    0.000000  \n",
       "1  0.012987       0.0      0.0      0.0   0.077922    0.000000  \n",
       "2  0.000000       0.0      0.0      0.0   0.123288    0.027397  "
      ]
     },
     "execution_count": 5,
     "metadata": {},
     "output_type": "execute_result"
    }
   ],
   "source": [
    "base_df.head(3)"
   ]
  },
  {
   "cell_type": "code",
   "execution_count": 6,
   "id": "80937e19",
   "metadata": {},
   "outputs": [
    {
     "data": {
      "text/plain": [
       "array(['malware', 'benign'], dtype=object)"
      ]
     },
     "execution_count": 6,
     "metadata": {},
     "output_type": "execute_result"
    }
   ],
   "source": [
    "base_df[\"source\"].unique()"
   ]
  },
  {
   "cell_type": "markdown",
   "id": "45a4493d",
   "metadata": {},
   "source": [
    "# Standardize Labels "
   ]
  },
  {
   "cell_type": "code",
   "execution_count": 7,
   "id": "04a3c090",
   "metadata": {},
   "outputs": [],
   "source": [
    "base_df[\"label\"] = base_df[[\"source\",\"generic\",\"trojan\",\"ransomware\",\"worm\",\"backdoor\",\"spyware\",\"rootkit\",\"encrypter\",\"downloader\"]].apply(set_label, grouping = \"generic_all\", axis=1)"
   ]
  },
  {
   "cell_type": "code",
   "execution_count": 8,
   "id": "a5807b7b",
   "metadata": {},
   "outputs": [],
   "source": [
    "base_df[\"raw_label\"] = base_df[[\"source\",\"generic\",\"trojan\",\"ransomware\",\"worm\",\"backdoor\",\"spyware\",\"rootkit\",\"encrypter\",\"downloader\"]].apply(set_label, grouping = \"raw\", axis=1)"
   ]
  },
  {
   "cell_type": "code",
   "execution_count": 9,
   "id": "41b30cdf",
   "metadata": {},
   "outputs": [
    {
     "data": {
      "text/plain": [
       "label\n",
       "benign      962\n",
       "generic    6016\n",
       "Name: hash, dtype: int64"
      ]
     },
     "execution_count": 9,
     "metadata": {},
     "output_type": "execute_result"
    }
   ],
   "source": [
    "base_df.groupby(\"label\")[\"hash\"].nunique()"
   ]
  },
  {
   "cell_type": "code",
   "execution_count": 10,
   "id": "e01a6457",
   "metadata": {},
   "outputs": [
    {
     "data": {
      "text/plain": [
       "raw_label\n",
       "benign      962\n",
       "generic    1770\n",
       "trojan     4238\n",
       "worm          8\n",
       "Name: hash, dtype: int64"
      ]
     },
     "execution_count": 10,
     "metadata": {},
     "output_type": "execute_result"
    }
   ],
   "source": [
    "base_df.groupby(\"raw_label\")[\"hash\"].nunique()"
   ]
  },
  {
   "cell_type": "markdown",
   "id": "2894a211",
   "metadata": {},
   "source": [
    "# Final Cleaning Before Modeling"
   ]
  },
  {
   "cell_type": "markdown",
   "id": "f4ef9aee",
   "metadata": {},
   "source": [
    "## Remove unneeded Columns"
   ]
  },
  {
   "cell_type": "code",
   "execution_count": 11,
   "id": "0c10d9a8",
   "metadata": {},
   "outputs": [
    {
     "name": "stdout",
     "output_type": "stream",
     "text": [
      "source has 2 unique values\n",
      "type has 1 unique values\n",
      "ID has 1 unique values\n",
      "Machine has 3 unique values\n",
      "SizeOfOptionalHeader has 2 unique values\n",
      "SectionAlignment has 4 unique values\n",
      "FileAlignment has 3 unique values\n",
      "Subsystem has 3 unique values\n",
      "SizeOfHeapReserve has 4 unique values\n",
      "SizeOfHeapCommit has 3 unique values\n",
      "LoaderFlags has 2 unique values\n",
      "NumberOfRvaAndSizes has 2 unique values\n",
      "VersionInformationSize has 1 unique values\n",
      "legitimate has 0 unique values\n",
      "label has 2 unique values\n",
      "raw_label has 4 unique values\n"
     ]
    }
   ],
   "source": [
    "# Look for columns with no or little unique values - could exclude\n",
    "for col in base_df.columns.values:\n",
    "    nunique = base_df[col].nunique()\n",
    "    if nunique < 5:\n",
    "        print(f\"{col} has {nunique} unique values\")"
   ]
  },
  {
   "cell_type": "code",
   "execution_count": 12,
   "id": "888b6d28",
   "metadata": {},
   "outputs": [],
   "source": [
    "modeling_data = base_df.drop(columns=[\n",
    "    \"source\",\"type\",\"ID\",\"VersionInformationSize\",\"legitimate\",\"malice\"\n",
    "    ,\"generic\",\"trojan\",\"ransomware\",\"worm\",\"backdoor\",\"spyware\",\"rootkit\",\"encrypter\",\"downloader\"\n",
    "])"
   ]
  },
  {
   "cell_type": "code",
   "execution_count": 13,
   "id": "e9fc3040",
   "metadata": {},
   "outputs": [],
   "source": [
    "modeling_data = modeling_data.rename(columns={\n",
    "    \"hash\":\"hash_ID\"\n",
    "})"
   ]
  },
  {
   "cell_type": "markdown",
   "id": "bdeefec4",
   "metadata": {},
   "source": [
    "## Check Data Types"
   ]
  },
  {
   "cell_type": "code",
   "execution_count": 14,
   "id": "6cf54659",
   "metadata": {},
   "outputs": [
    {
     "name": "stdout",
     "output_type": "stream",
     "text": [
      "hash_ID : <class 'str'>\n",
      "md5 : <class 'str'>\n",
      "label : <class 'str'>\n",
      "raw_label : <class 'str'>\n"
     ]
    }
   ],
   "source": [
    "for col in modeling_data.columns.values:\n",
    "    d_type = type(modeling_data[col].values[0])\n",
    "    if str(d_type) == \"<class 'str'>\":\n",
    "        print(col,\":\",d_type)"
   ]
  },
  {
   "cell_type": "code",
   "execution_count": 15,
   "id": "8baf4703",
   "metadata": {},
   "outputs": [],
   "source": [
    "modeling_data = modeling_data.drop(columns=[\"md5\"])"
   ]
  },
  {
   "cell_type": "markdown",
   "id": "ed68aa5a",
   "metadata": {},
   "source": [
    "# Split Generic & Trojan"
   ]
  },
  {
   "cell_type": "code",
   "execution_count": 16,
   "id": "04102d66",
   "metadata": {},
   "outputs": [],
   "source": [
    "modeling_data[\"is_malicious\"] = np.where(\n",
    "    modeling_data[\"label\"] == \"benign\"\n",
    "    ,False\n",
    "    ,True\n",
    ")"
   ]
  },
  {
   "cell_type": "code",
   "execution_count": 17,
   "id": "201c672c",
   "metadata": {},
   "outputs": [],
   "source": [
    "modeling_generic = modeling_data[modeling_data[\"label\"].isin([\"benign\",\"generic\"])]\n",
    "modeling_generic = modeling_generic.drop(columns=[\"label\",\"raw_label\"])"
   ]
  },
  {
   "cell_type": "code",
   "execution_count": 18,
   "id": "b7c1030a",
   "metadata": {},
   "outputs": [],
   "source": [
    "modeling_trojan = modeling_data[modeling_data[\"raw_label\"].isin([\"benign\",\"trojan\"])]\n",
    "modeling_trojan = modeling_trojan.drop(columns=[\"label\",\"raw_label\"])"
   ]
  },
  {
   "cell_type": "markdown",
   "id": "7584f133",
   "metadata": {},
   "source": [
    "# Prepare for Modeling"
   ]
  },
  {
   "cell_type": "code",
   "execution_count": 19,
   "id": "5e990dc4",
   "metadata": {},
   "outputs": [],
   "source": [
    "generic_labels = np.array(modeling_generic['is_malicious'])"
   ]
  },
  {
   "cell_type": "code",
   "execution_count": 20,
   "id": "c700042e",
   "metadata": {},
   "outputs": [],
   "source": [
    "generic_features= modeling_generic.drop(columns=['hash_ID','is_malicious'], axis = 1)"
   ]
  },
  {
   "cell_type": "code",
   "execution_count": 21,
   "id": "3a30cbeb",
   "metadata": {},
   "outputs": [],
   "source": [
    "generic_feature_list = list(generic_features.columns)"
   ]
  },
  {
   "cell_type": "code",
   "execution_count": 22,
   "id": "c60745ac",
   "metadata": {},
   "outputs": [],
   "source": [
    "generic_features = np.array(generic_features)"
   ]
  },
  {
   "cell_type": "markdown",
   "id": "96276106",
   "metadata": {},
   "source": [
    "## Trojan"
   ]
  },
  {
   "cell_type": "code",
   "execution_count": 23,
   "id": "2bcb8cde",
   "metadata": {},
   "outputs": [],
   "source": [
    "trojan_labels = np.array(modeling_trojan['is_malicious'])"
   ]
  },
  {
   "cell_type": "code",
   "execution_count": 24,
   "id": "0d3d3445",
   "metadata": {},
   "outputs": [],
   "source": [
    "trojan_features= modeling_trojan.drop(columns=['hash_ID','is_malicious'], axis = 1)"
   ]
  },
  {
   "cell_type": "code",
   "execution_count": 25,
   "id": "8e4a4e34",
   "metadata": {},
   "outputs": [],
   "source": [
    "trojan_feature_list = list(trojan_features.columns)"
   ]
  },
  {
   "cell_type": "code",
   "execution_count": 26,
   "id": "c7a0c3f9",
   "metadata": {},
   "outputs": [],
   "source": [
    "trojan_features = np.array(trojan_features)"
   ]
  },
  {
   "cell_type": "markdown",
   "id": "3abbcc55",
   "metadata": {},
   "source": [
    "## Split Train/Test"
   ]
  },
  {
   "cell_type": "code",
   "execution_count": 27,
   "id": "494e57eb",
   "metadata": {},
   "outputs": [],
   "source": [
    "generic_train_features, generic_test_features, generic_train_labels, generic_test_labels = \\\n",
    "train_test_split(generic_features, generic_labels, test_size = 0.25, random_state = 1202)"
   ]
  },
  {
   "cell_type": "code",
   "execution_count": 28,
   "id": "c79e6e1c",
   "metadata": {},
   "outputs": [],
   "source": [
    "trojan_train_features, trojan_test_features, trojan_train_labels, trojan_test_labels = \\\n",
    "train_test_split(trojan_features, trojan_labels, test_size = 0.25, random_state = 1202)"
   ]
  },
  {
   "cell_type": "markdown",
   "id": "9a077791",
   "metadata": {},
   "source": [
    "# Create the Models"
   ]
  },
  {
   "cell_type": "markdown",
   "id": "fb8d485a",
   "metadata": {},
   "source": [
    "## Generic"
   ]
  },
  {
   "cell_type": "code",
   "execution_count": 29,
   "id": "68108617",
   "metadata": {},
   "outputs": [
    {
     "name": "stdout",
     "output_type": "stream",
     "text": [
      "Wall time: 0 ns\n"
     ]
    }
   ],
   "source": [
    "%%time\n",
    "generic_rf = RandomForestClassifier(n_estimators = 100, random_state = 1202)"
   ]
  },
  {
   "cell_type": "code",
   "execution_count": 30,
   "id": "0cbb8c3f",
   "metadata": {},
   "outputs": [
    {
     "name": "stdout",
     "output_type": "stream",
     "text": [
      "Wall time: 556 ms\n"
     ]
    },
    {
     "data": {
      "text/plain": [
       "RandomForestClassifier(random_state=1202)"
      ]
     },
     "execution_count": 30,
     "metadata": {},
     "output_type": "execute_result"
    }
   ],
   "source": [
    "%%time\n",
    "generic_rf.fit(generic_train_features, generic_train_labels)"
   ]
  },
  {
   "cell_type": "markdown",
   "id": "c36dfbb4",
   "metadata": {},
   "source": [
    "## Trojan"
   ]
  },
  {
   "cell_type": "code",
   "execution_count": 31,
   "id": "f7049291",
   "metadata": {},
   "outputs": [
    {
     "name": "stdout",
     "output_type": "stream",
     "text": [
      "Wall time: 0 ns\n"
     ]
    }
   ],
   "source": [
    "%%time\n",
    "trojan_rf = RandomForestClassifier(n_estimators = 100, random_state = 1202)"
   ]
  },
  {
   "cell_type": "code",
   "execution_count": 32,
   "id": "8bd612c2",
   "metadata": {},
   "outputs": [
    {
     "name": "stdout",
     "output_type": "stream",
     "text": [
      "Wall time: 395 ms\n"
     ]
    },
    {
     "data": {
      "text/plain": [
       "RandomForestClassifier(random_state=1202)"
      ]
     },
     "execution_count": 32,
     "metadata": {},
     "output_type": "execute_result"
    }
   ],
   "source": [
    "%%time\n",
    "trojan_rf.fit(trojan_train_features, trojan_train_labels)"
   ]
  },
  {
   "cell_type": "markdown",
   "id": "a210c481",
   "metadata": {},
   "source": [
    "# Test Models\n",
    "    Compare actual labels against predicted labels"
   ]
  },
  {
   "cell_type": "markdown",
   "id": "df66a4a3",
   "metadata": {},
   "source": [
    "## Generic"
   ]
  },
  {
   "cell_type": "code",
   "execution_count": 33,
   "id": "e9c1bb8a",
   "metadata": {},
   "outputs": [],
   "source": [
    "# Test Generic Model on Generic Data\n",
    "generic_predictions = generic_rf.predict(generic_test_features)"
   ]
  },
  {
   "cell_type": "code",
   "execution_count": 34,
   "id": "70595341",
   "metadata": {},
   "outputs": [
    {
     "data": {
      "text/plain": [
       "True"
      ]
     },
     "execution_count": 34,
     "metadata": {},
     "output_type": "execute_result"
    }
   ],
   "source": [
    "len(generic_predictions) == len(generic_test_labels)"
   ]
  },
  {
   "cell_type": "code",
   "execution_count": 35,
   "id": "1cb0ec72",
   "metadata": {},
   "outputs": [
    {
     "data": {
      "text/plain": [
       "1745"
      ]
     },
     "execution_count": 35,
     "metadata": {},
     "output_type": "execute_result"
    }
   ],
   "source": [
    "len(generic_predictions)"
   ]
  },
  {
   "cell_type": "code",
   "execution_count": 36,
   "id": "54c0040a",
   "metadata": {},
   "outputs": [],
   "source": [
    "correct = 0\n",
    "wrong = []\n",
    "for i in range(len(generic_predictions)):\n",
    "    if generic_predictions[i] == generic_test_labels[i]:\n",
    "        correct += 1\n",
    "    else:\n",
    "        wrong.append([generic_test_labels[i],generic_predictions[i]])"
   ]
  },
  {
   "cell_type": "code",
   "execution_count": 37,
   "id": "b09d294e",
   "metadata": {},
   "outputs": [],
   "source": [
    "percent_correct = round((correct/len(generic_predictions))*100,2)"
   ]
  },
  {
   "cell_type": "code",
   "execution_count": 38,
   "id": "e2237704",
   "metadata": {},
   "outputs": [
    {
     "data": {
      "text/plain": [
       "1736"
      ]
     },
     "execution_count": 38,
     "metadata": {},
     "output_type": "execute_result"
    }
   ],
   "source": [
    "correct"
   ]
  },
  {
   "cell_type": "code",
   "execution_count": 39,
   "id": "754bdb2e",
   "metadata": {},
   "outputs": [
    {
     "data": {
      "text/plain": [
       "99.48"
      ]
     },
     "execution_count": 39,
     "metadata": {},
     "output_type": "execute_result"
    }
   ],
   "source": [
    "percent_correct"
   ]
  },
  {
   "cell_type": "code",
   "execution_count": 40,
   "id": "da8df3c6",
   "metadata": {},
   "outputs": [],
   "source": [
    "flagged_benign = 0\n",
    "ignored_malicious = 0\n",
    "for bad_prediction in wrong:\n",
    "    if (bad_prediction[0] == 1) & (bad_prediction[1] == 0):\n",
    "        ignored_malicious += 1\n",
    "    elif (bad_prediction[0] == 0) & (bad_prediction[1] == 1):\n",
    "        flagged_benign += 1\n",
    "    else:\n",
    "        print(\"ISSUE: \", bad_prediction)\n",
    "        break"
   ]
  },
  {
   "cell_type": "code",
   "execution_count": 41,
   "id": "040af057",
   "metadata": {},
   "outputs": [
    {
     "name": "stdout",
     "output_type": "stream",
     "text": [
      "Accuracy of Classifier is: 99.48%\n",
      "There were 9 units wrongly classified out of 1745\n",
      "We flagged 3 benign files and let 6 malicious files slip by\n"
     ]
    }
   ],
   "source": [
    "print(f\"Accuracy of Classifier is: {percent_correct}%\")\n",
    "print(f\"There were {len(wrong)} units wrongly classified out of {len(generic_predictions)}\")\n",
    "print(f\"We flagged {flagged_benign} benign files and let {ignored_malicious} malicious files slip by\")"
   ]
  },
  {
   "cell_type": "markdown",
   "id": "55dedb02",
   "metadata": {},
   "source": [
    "## Trojan"
   ]
  },
  {
   "cell_type": "code",
   "execution_count": 42,
   "id": "48b267ef",
   "metadata": {},
   "outputs": [],
   "source": [
    "# Test Trojan Model on Trojan Data\n",
    "trojan_predictions = trojan_rf.predict(trojan_test_features)"
   ]
  },
  {
   "cell_type": "code",
   "execution_count": 43,
   "id": "bb1d3df5",
   "metadata": {},
   "outputs": [
    {
     "data": {
      "text/plain": [
       "True"
      ]
     },
     "execution_count": 43,
     "metadata": {},
     "output_type": "execute_result"
    }
   ],
   "source": [
    "len(trojan_predictions) == len(trojan_test_labels)"
   ]
  },
  {
   "cell_type": "code",
   "execution_count": 44,
   "id": "508d18d1",
   "metadata": {},
   "outputs": [
    {
     "data": {
      "text/plain": [
       "1300"
      ]
     },
     "execution_count": 44,
     "metadata": {},
     "output_type": "execute_result"
    }
   ],
   "source": [
    "len(trojan_predictions)"
   ]
  },
  {
   "cell_type": "code",
   "execution_count": 45,
   "id": "1b104c6a",
   "metadata": {},
   "outputs": [],
   "source": [
    "correct = 0\n",
    "wrong = []\n",
    "for i in range(len(trojan_predictions)):\n",
    "    if trojan_predictions[i] == trojan_test_labels[i]:\n",
    "        correct += 1\n",
    "    else:\n",
    "        wrong.append([trojan_test_labels[i],trojan_predictions[i]])"
   ]
  },
  {
   "cell_type": "code",
   "execution_count": 46,
   "id": "c92225bb",
   "metadata": {},
   "outputs": [],
   "source": [
    "percent_correct = round((correct/len(trojan_predictions))*100,2)"
   ]
  },
  {
   "cell_type": "code",
   "execution_count": 47,
   "id": "5ee26d56",
   "metadata": {},
   "outputs": [
    {
     "data": {
      "text/plain": [
       "1298"
      ]
     },
     "execution_count": 47,
     "metadata": {},
     "output_type": "execute_result"
    }
   ],
   "source": [
    "correct"
   ]
  },
  {
   "cell_type": "code",
   "execution_count": 48,
   "id": "1afc1352",
   "metadata": {},
   "outputs": [
    {
     "data": {
      "text/plain": [
       "99.85"
      ]
     },
     "execution_count": 48,
     "metadata": {},
     "output_type": "execute_result"
    }
   ],
   "source": [
    "percent_correct"
   ]
  },
  {
   "cell_type": "code",
   "execution_count": 49,
   "id": "6eaa07dc",
   "metadata": {},
   "outputs": [],
   "source": [
    "flagged_benign = 0\n",
    "ignored_malicious = 0\n",
    "for bad_prediction in wrong:\n",
    "    if (bad_prediction[0] == 1) & (bad_prediction[1] == 0):\n",
    "        ignored_malicious += 1\n",
    "    elif (bad_prediction[0] == 0) & (bad_prediction[1] == 1):\n",
    "        flagged_benign += 1\n",
    "    else:\n",
    "        print(\"ISSUE: \", bad_prediction)\n",
    "        break"
   ]
  },
  {
   "cell_type": "code",
   "execution_count": 50,
   "id": "e24217d0",
   "metadata": {},
   "outputs": [
    {
     "name": "stdout",
     "output_type": "stream",
     "text": [
      "Accuracy of Classifier is: 99.85%\n",
      "There were 2 units wrongly classified out of 1300\n",
      "We flagged 0 benign files and let 2 malicious files slip by\n"
     ]
    }
   ],
   "source": [
    "print(f\"Accuracy of Classifier is: {percent_correct}%\")\n",
    "print(f\"There were {len(wrong)} units wrongly classified out of {len(trojan_predictions)}\")\n",
    "print(f\"We flagged {flagged_benign} benign files and let {ignored_malicious} malicious files slip by\")"
   ]
  },
  {
   "cell_type": "markdown",
   "id": "ac845252",
   "metadata": {},
   "source": [
    "# Feature Importance\n",
    "    Leverage the secondary model focusing on Trojan Malware Attacks to determine feature importance"
   ]
  },
  {
   "cell_type": "code",
   "execution_count": 51,
   "id": "1504d70b",
   "metadata": {},
   "outputs": [],
   "source": [
    "# Get numerical feature importances\n",
    "trojan_importances = list(trojan_rf.feature_importances_)\n",
    "# List of tuples with variable and importance\n",
    "trojan_feature_importances = [(feature, round(importance, 5)) for feature, importance in zip(trojan_feature_list, trojan_importances)]\n",
    "# Sort the feature importances by most important first\n",
    "trojan_feature_importances = sorted(trojan_feature_importances, key = lambda x: x[1], reverse = True)\n",
    "trojan_feature_importances_df = pd.DataFrame(trojan_feature_importances,columns=[\"feature\",\"trojan_feature_importance\"])"
   ]
  },
  {
   "cell_type": "code",
   "execution_count": 53,
   "id": "30eb7bde",
   "metadata": {},
   "outputs": [
    {
     "data": {
      "text/html": [
       "<div>\n",
       "<style scoped>\n",
       "    .dataframe tbody tr th:only-of-type {\n",
       "        vertical-align: middle;\n",
       "    }\n",
       "\n",
       "    .dataframe tbody tr th {\n",
       "        vertical-align: top;\n",
       "    }\n",
       "\n",
       "    .dataframe thead th {\n",
       "        text-align: right;\n",
       "    }\n",
       "</style>\n",
       "<table border=\"1\" class=\"dataframe\">\n",
       "  <thead>\n",
       "    <tr style=\"text-align: right;\">\n",
       "      <th></th>\n",
       "      <th>feature</th>\n",
       "      <th>trojan_feature_importance</th>\n",
       "    </tr>\n",
       "  </thead>\n",
       "  <tbody>\n",
       "    <tr>\n",
       "      <th>0</th>\n",
       "      <td>SectionsMaxEntropy</td>\n",
       "      <td>0.12495</td>\n",
       "    </tr>\n",
       "    <tr>\n",
       "      <th>1</th>\n",
       "      <td>SizeOfImage</td>\n",
       "      <td>0.09079</td>\n",
       "    </tr>\n",
       "    <tr>\n",
       "      <th>2</th>\n",
       "      <td>DllCharacteristics</td>\n",
       "      <td>0.07393</td>\n",
       "    </tr>\n",
       "    <tr>\n",
       "      <th>3</th>\n",
       "      <td>BaseOfData</td>\n",
       "      <td>0.06957</td>\n",
       "    </tr>\n",
       "    <tr>\n",
       "      <th>4</th>\n",
       "      <td>SizeOfOptionalHeader</td>\n",
       "      <td>0.06086</td>\n",
       "    </tr>\n",
       "    <tr>\n",
       "      <th>5</th>\n",
       "      <td>Subsystem</td>\n",
       "      <td>0.05687</td>\n",
       "    </tr>\n",
       "    <tr>\n",
       "      <th>6</th>\n",
       "      <td>SectionMaxVirtualsize</td>\n",
       "      <td>0.05299</td>\n",
       "    </tr>\n",
       "    <tr>\n",
       "      <th>7</th>\n",
       "      <td>SectionMaxRawsize</td>\n",
       "      <td>0.04917</td>\n",
       "    </tr>\n",
       "    <tr>\n",
       "      <th>8</th>\n",
       "      <td>MajorSubsystemVersion</td>\n",
       "      <td>0.04789</td>\n",
       "    </tr>\n",
       "    <tr>\n",
       "      <th>9</th>\n",
       "      <td>SizeOfStackReserve</td>\n",
       "      <td>0.03411</td>\n",
       "    </tr>\n",
       "    <tr>\n",
       "      <th>10</th>\n",
       "      <td>Machine</td>\n",
       "      <td>0.03193</td>\n",
       "    </tr>\n",
       "    <tr>\n",
       "      <th>11</th>\n",
       "      <td>SectionsMinRawsize</td>\n",
       "      <td>0.02491</td>\n",
       "    </tr>\n",
       "    <tr>\n",
       "      <th>12</th>\n",
       "      <td>SectionsMeanRawsize</td>\n",
       "      <td>0.02211</td>\n",
       "    </tr>\n",
       "    <tr>\n",
       "      <th>13</th>\n",
       "      <td>SectionsMinVirtualsize</td>\n",
       "      <td>0.02194</td>\n",
       "    </tr>\n",
       "    <tr>\n",
       "      <th>14</th>\n",
       "      <td>Characteristics</td>\n",
       "      <td>0.01990</td>\n",
       "    </tr>\n",
       "  </tbody>\n",
       "</table>\n",
       "</div>"
      ],
      "text/plain": [
       "                   feature  trojan_feature_importance\n",
       "0       SectionsMaxEntropy                    0.12495\n",
       "1              SizeOfImage                    0.09079\n",
       "2       DllCharacteristics                    0.07393\n",
       "3               BaseOfData                    0.06957\n",
       "4     SizeOfOptionalHeader                    0.06086\n",
       "5                Subsystem                    0.05687\n",
       "6    SectionMaxVirtualsize                    0.05299\n",
       "7        SectionMaxRawsize                    0.04917\n",
       "8    MajorSubsystemVersion                    0.04789\n",
       "9       SizeOfStackReserve                    0.03411\n",
       "10                 Machine                    0.03193\n",
       "11      SectionsMinRawsize                    0.02491\n",
       "12     SectionsMeanRawsize                    0.02211\n",
       "13  SectionsMinVirtualsize                    0.02194\n",
       "14         Characteristics                    0.01990"
      ]
     },
     "execution_count": 53,
     "metadata": {},
     "output_type": "execute_result"
    }
   ],
   "source": [
    "trojan_feature_importances_df.head(15)"
   ]
  }
 ],
 "metadata": {
  "kernelspec": {
   "display_name": "Python 3 (ipykernel)",
   "language": "python",
   "name": "python3"
  },
  "language_info": {
   "codemirror_mode": {
    "name": "ipython",
    "version": 3
   },
   "file_extension": ".py",
   "mimetype": "text/x-python",
   "name": "python",
   "nbconvert_exporter": "python",
   "pygments_lexer": "ipython3",
   "version": "3.7.1"
  },
  "toc": {
   "base_numbering": 1,
   "nav_menu": {},
   "number_sections": true,
   "sideBar": true,
   "skip_h1_title": false,
   "title_cell": "Table of Contents",
   "title_sidebar": "Contents",
   "toc_cell": false,
   "toc_position": {},
   "toc_section_display": true,
   "toc_window_display": false
  }
 },
 "nbformat": 4,
 "nbformat_minor": 5
}
