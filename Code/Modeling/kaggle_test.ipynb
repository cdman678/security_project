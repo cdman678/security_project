{
 "cells": [
  {
   "cell_type": "code",
   "execution_count": null,
   "metadata": {},
   "outputs": [],
   "source": [
    "import pandas as pd\n",
    "import numpy as np\n",
    "\n",
    "from sklearn.model_selection import train_test_split\n",
    "\n",
    "# from sklearn.ensemble import RandomForestRegressor\n",
    "from sklearn.ensemble import RandomForestClassifier"
   ]
  },
  {
   "cell_type": "markdown",
   "metadata": {},
   "source": [
    "# Pull in Data"
   ]
  },
  {
   "cell_type": "code",
   "execution_count": 2,
   "metadata": {},
   "outputs": [
    {
     "name": "stdout",
     "output_type": "stream",
     "text": [
      "Wall time: 1.22 s\n"
     ]
    },
    {
     "name": "stderr",
     "output_type": "stream",
     "text": [
      "C:\\Users\\caleb\\PycharmProjects\\ditto\\ven\\lib\\site-packages\\IPython\\core\\magics\\execution.py:1335: DtypeWarning: Columns (2) have mixed types.Specify dtype option on import or set low_memory=False.\n",
      "  exec(code, glob, local_ns)\n"
     ]
    }
   ],
   "source": [
    "%%time\n",
    "data = pd.read_csv(\"C:\\\\Users\\\\caleb\\\\PycharmProjects\\\\Sec_Project\\\\Data\\\\Kaggle-data.csv\")"
   ]
  },
  {
   "cell_type": "code",
   "execution_count": 3,
   "metadata": {},
   "outputs": [
    {
     "data": {
      "text/plain": [
       "(216352, 58)"
      ]
     },
     "execution_count": 3,
     "metadata": {},
     "output_type": "execute_result"
    }
   ],
   "source": [
    "data.shape"
   ]
  },
  {
   "cell_type": "code",
   "execution_count": 4,
   "metadata": {},
   "outputs": [
    {
     "data": {
      "text/html": [
       "<div>\n",
       "<style scoped>\n",
       "    .dataframe tbody tr th:only-of-type {\n",
       "        vertical-align: middle;\n",
       "    }\n",
       "\n",
       "    .dataframe tbody tr th {\n",
       "        vertical-align: top;\n",
       "    }\n",
       "\n",
       "    .dataframe thead th {\n",
       "        text-align: right;\n",
       "    }\n",
       "</style>\n",
       "<table border=\"1\" class=\"dataframe\">\n",
       "  <thead>\n",
       "    <tr style=\"text-align: right;\">\n",
       "      <th></th>\n",
       "      <th>ID</th>\n",
       "      <th>md5</th>\n",
       "      <th>Machine</th>\n",
       "      <th>SizeOfOptionalHeader</th>\n",
       "      <th>Characteristics</th>\n",
       "      <th>MajorLinkerVersion</th>\n",
       "      <th>MinorLinkerVersion</th>\n",
       "      <th>SizeOfCode</th>\n",
       "      <th>SizeOfInitializedData</th>\n",
       "      <th>SizeOfUninitializedData</th>\n",
       "      <th>...</th>\n",
       "      <th>ResourcesMeanEntropy</th>\n",
       "      <th>ResourcesMinEntropy</th>\n",
       "      <th>ResourcesMaxEntropy</th>\n",
       "      <th>ResourcesMeanSize</th>\n",
       "      <th>ResourcesMinSize</th>\n",
       "      <th>ResourcesMaxSize</th>\n",
       "      <th>LoadConfigurationSize</th>\n",
       "      <th>VersionInformationSize</th>\n",
       "      <th>legitimate</th>\n",
       "      <th>Unnamed: 57</th>\n",
       "    </tr>\n",
       "  </thead>\n",
       "  <tbody>\n",
       "    <tr>\n",
       "      <th>0</th>\n",
       "      <td>1</td>\n",
       "      <td>b69acb3bb133974e48229627663f96d4</td>\n",
       "      <td>332</td>\n",
       "      <td>224</td>\n",
       "      <td>8450</td>\n",
       "      <td>8.0</td>\n",
       "      <td>0</td>\n",
       "      <td>16896</td>\n",
       "      <td>8192</td>\n",
       "      <td>0</td>\n",
       "      <td>...</td>\n",
       "      <td>3.492126</td>\n",
       "      <td>3.492126</td>\n",
       "      <td>3.492126</td>\n",
       "      <td>864.0</td>\n",
       "      <td>864.0</td>\n",
       "      <td>864</td>\n",
       "      <td>72</td>\n",
       "      <td>0</td>\n",
       "      <td>1</td>\n",
       "      <td>NaN</td>\n",
       "    </tr>\n",
       "    <tr>\n",
       "      <th>1</th>\n",
       "      <td>2</td>\n",
       "      <td>1cbee4b3725629bd0aa6ac2ff500925f</td>\n",
       "      <td>332</td>\n",
       "      <td>224</td>\n",
       "      <td>258</td>\n",
       "      <td>9.0</td>\n",
       "      <td>0</td>\n",
       "      <td>84480</td>\n",
       "      <td>25600</td>\n",
       "      <td>0</td>\n",
       "      <td>...</td>\n",
       "      <td>3.486827</td>\n",
       "      <td>3.486827</td>\n",
       "      <td>3.486827</td>\n",
       "      <td>892.0</td>\n",
       "      <td>892.0</td>\n",
       "      <td>892</td>\n",
       "      <td>72</td>\n",
       "      <td>0</td>\n",
       "      <td>1</td>\n",
       "      <td>NaN</td>\n",
       "    </tr>\n",
       "    <tr>\n",
       "      <th>2</th>\n",
       "      <td>3</td>\n",
       "      <td>b7027cf0cd31c820928950cbfe7e91ef</td>\n",
       "      <td>332</td>\n",
       "      <td>224</td>\n",
       "      <td>8450</td>\n",
       "      <td>8.0</td>\n",
       "      <td>0</td>\n",
       "      <td>4608</td>\n",
       "      <td>3584</td>\n",
       "      <td>0</td>\n",
       "      <td>...</td>\n",
       "      <td>3.517270</td>\n",
       "      <td>3.517270</td>\n",
       "      <td>3.517270</td>\n",
       "      <td>952.0</td>\n",
       "      <td>952.0</td>\n",
       "      <td>952</td>\n",
       "      <td>72</td>\n",
       "      <td>0</td>\n",
       "      <td>1</td>\n",
       "      <td>NaN</td>\n",
       "    </tr>\n",
       "    <tr>\n",
       "      <th>3</th>\n",
       "      <td>4</td>\n",
       "      <td>156a0bb069f94d1e7c2508318805f2a4</td>\n",
       "      <td>332</td>\n",
       "      <td>224</td>\n",
       "      <td>8450</td>\n",
       "      <td>10.0</td>\n",
       "      <td>0</td>\n",
       "      <td>108544</td>\n",
       "      <td>15872</td>\n",
       "      <td>0</td>\n",
       "      <td>...</td>\n",
       "      <td>3.270559</td>\n",
       "      <td>3.034188</td>\n",
       "      <td>3.506931</td>\n",
       "      <td>1032.0</td>\n",
       "      <td>972.0</td>\n",
       "      <td>1092</td>\n",
       "      <td>72</td>\n",
       "      <td>0</td>\n",
       "      <td>1</td>\n",
       "      <td>NaN</td>\n",
       "    </tr>\n",
       "  </tbody>\n",
       "</table>\n",
       "<p>4 rows × 58 columns</p>\n",
       "</div>"
      ],
      "text/plain": [
       "   ID                               md5 Machine  SizeOfOptionalHeader  \\\n",
       "0   1  b69acb3bb133974e48229627663f96d4     332                   224   \n",
       "1   2  1cbee4b3725629bd0aa6ac2ff500925f     332                   224   \n",
       "2   3  b7027cf0cd31c820928950cbfe7e91ef     332                   224   \n",
       "3   4  156a0bb069f94d1e7c2508318805f2a4     332                   224   \n",
       "\n",
       "   Characteristics  MajorLinkerVersion  MinorLinkerVersion  SizeOfCode  \\\n",
       "0             8450                 8.0                   0       16896   \n",
       "1              258                 9.0                   0       84480   \n",
       "2             8450                 8.0                   0        4608   \n",
       "3             8450                10.0                   0      108544   \n",
       "\n",
       "   SizeOfInitializedData  SizeOfUninitializedData  ...  ResourcesMeanEntropy  \\\n",
       "0                   8192                        0  ...              3.492126   \n",
       "1                  25600                        0  ...              3.486827   \n",
       "2                   3584                        0  ...              3.517270   \n",
       "3                  15872                        0  ...              3.270559   \n",
       "\n",
       "   ResourcesMinEntropy  ResourcesMaxEntropy  ResourcesMeanSize  \\\n",
       "0             3.492126             3.492126              864.0   \n",
       "1             3.486827             3.486827              892.0   \n",
       "2             3.517270             3.517270              952.0   \n",
       "3             3.034188             3.506931             1032.0   \n",
       "\n",
       "   ResourcesMinSize  ResourcesMaxSize  LoadConfigurationSize  \\\n",
       "0             864.0               864                     72   \n",
       "1             892.0               892                     72   \n",
       "2             952.0               952                     72   \n",
       "3             972.0              1092                     72   \n",
       "\n",
       "   VersionInformationSize  legitimate  Unnamed: 57  \n",
       "0                       0           1          NaN  \n",
       "1                       0           1          NaN  \n",
       "2                       0           1          NaN  \n",
       "3                       0           1          NaN  \n",
       "\n",
       "[4 rows x 58 columns]"
      ]
     },
     "execution_count": 4,
     "metadata": {},
     "output_type": "execute_result"
    }
   ],
   "source": [
    "data.head(4)"
   ]
  },
  {
   "cell_type": "code",
   "execution_count": 5,
   "metadata": {},
   "outputs": [
    {
     "data": {
      "text/plain": [
       "Index(['ID', 'md5', 'Machine', 'SizeOfOptionalHeader', 'Characteristics',\n",
       "       'MajorLinkerVersion', 'MinorLinkerVersion', 'SizeOfCode',\n",
       "       'SizeOfInitializedData', 'SizeOfUninitializedData',\n",
       "       'AddressOfEntryPoint', 'BaseOfCode', 'BaseOfData', 'ImageBase',\n",
       "       'SectionAlignment', 'FileAlignment', 'MajorOperatingSystemVersion',\n",
       "       'MinorOperatingSystemVersion', 'MajorImageVersion', 'MinorImageVersion',\n",
       "       'MajorSubsystemVersion', 'MinorSubsystemVersion', 'SizeOfImage',\n",
       "       'SizeOfHeaders', 'CheckSum', 'Subsystem', 'DllCharacteristics',\n",
       "       'SizeOfStackReserve', 'SizeOfStackCommit', 'SizeOfHeapReserve',\n",
       "       'SizeOfHeapCommit', 'LoaderFlags', 'NumberOfRvaAndSizes', 'SectionsNb',\n",
       "       'SectionsMeanEntropy', 'SectionsMinEntropy', 'SectionsMaxEntropy',\n",
       "       'SectionsMeanRawsize', 'SectionsMinRawsize', 'SectionMaxRawsize',\n",
       "       'SectionsMeanVirtualsize', 'SectionsMinVirtualsize',\n",
       "       'SectionMaxVirtualsize', 'ImportsNbDLL', 'ImportsNb',\n",
       "       'ImportsNbOrdinal', 'ExportNb', 'ResourcesNb', 'ResourcesMeanEntropy',\n",
       "       'ResourcesMinEntropy', 'ResourcesMaxEntropy', 'ResourcesMeanSize',\n",
       "       'ResourcesMinSize', 'ResourcesMaxSize', 'LoadConfigurationSize',\n",
       "       'VersionInformationSize', 'legitimate', 'Unnamed: 57'],\n",
       "      dtype='object')"
      ]
     },
     "execution_count": 5,
     "metadata": {},
     "output_type": "execute_result"
    }
   ],
   "source": [
    "data.columns"
   ]
  },
  {
   "cell_type": "markdown",
   "metadata": {},
   "source": [
    "# Clean Data"
   ]
  },
  {
   "cell_type": "code",
   "execution_count": 6,
   "metadata": {},
   "outputs": [],
   "source": [
    "columns_to_drop = [\n",
    "   \"md5\"\n",
    "    ,\"Machine\"\n",
    "    ,\"Unnamed: 57\"\n",
    "]"
   ]
  },
  {
   "cell_type": "code",
   "execution_count": 7,
   "metadata": {},
   "outputs": [],
   "source": [
    "clean_data = data.drop(columns=columns_to_drop)"
   ]
  },
  {
   "cell_type": "code",
   "execution_count": 8,
   "metadata": {
    "scrolled": false
   },
   "outputs": [
    {
     "name": "stdout",
     "output_type": "stream",
     "text": [
      "Dimension: MajorLinkerVersion\n",
      "Nulls: 1\n",
      "Type: float64\n",
      "Unique Values: 67\n"
     ]
    }
   ],
   "source": [
    "for col in clean_data.columns:\n",
    "    if clean_data[col].isnull().sum() != 0 or not str(clean_data[col].dtypes) in [\"int64\",\"float64\"]:\n",
    "        print(f\"Dimension: {col}\")\n",
    "        print(f\"Nulls: {clean_data[col].isnull().sum()}\")\n",
    "        print(f\"Type: {clean_data[col].dtypes}\")\n",
    "        print(f\"Unique Values: {clean_data[col].nunique()}\")"
   ]
  },
  {
   "cell_type": "markdown",
   "metadata": {},
   "source": [
    "Because this is just a single unit will drop"
   ]
  },
  {
   "cell_type": "code",
   "execution_count": 9,
   "metadata": {},
   "outputs": [
    {
     "data": {
      "text/plain": [
       "13    1\n",
       "Name: legitimate, dtype: int64"
      ]
     },
     "execution_count": 9,
     "metadata": {},
     "output_type": "execute_result"
    }
   ],
   "source": [
    "clean_data[clean_data[\"MajorLinkerVersion\"].isnull()][\"legitimate\"]"
   ]
  },
  {
   "cell_type": "code",
   "execution_count": 10,
   "metadata": {},
   "outputs": [],
   "source": [
    "clean_data = clean_data.dropna()"
   ]
  },
  {
   "cell_type": "code",
   "execution_count": 11,
   "metadata": {},
   "outputs": [
    {
     "data": {
      "text/plain": [
       "(216351, 55)"
      ]
     },
     "execution_count": 11,
     "metadata": {},
     "output_type": "execute_result"
    }
   ],
   "source": [
    "clean_data.shape"
   ]
  },
  {
   "cell_type": "markdown",
   "metadata": {},
   "source": [
    "# Prepare for Modeling "
   ]
  },
  {
   "cell_type": "code",
   "execution_count": 12,
   "metadata": {},
   "outputs": [],
   "source": [
    "_id = np.array(clean_data['ID'])"
   ]
  },
  {
   "cell_type": "code",
   "execution_count": 13,
   "metadata": {},
   "outputs": [],
   "source": [
    "labels = np.array(clean_data['legitimate'])"
   ]
  },
  {
   "cell_type": "code",
   "execution_count": 14,
   "metadata": {},
   "outputs": [],
   "source": [
    "features= clean_data.drop(columns=['ID','legitimate'], axis = 1)"
   ]
  },
  {
   "cell_type": "code",
   "execution_count": 15,
   "metadata": {},
   "outputs": [],
   "source": [
    "feature_list = list(features.columns)"
   ]
  },
  {
   "cell_type": "code",
   "execution_count": 16,
   "metadata": {},
   "outputs": [],
   "source": [
    "features = np.array(features)"
   ]
  },
  {
   "cell_type": "markdown",
   "metadata": {},
   "source": [
    "## Train/Test Split"
   ]
  },
  {
   "cell_type": "code",
   "execution_count": 17,
   "metadata": {},
   "outputs": [],
   "source": [
    "train_features, test_features, train_labels, test_labels = \\\n",
    "train_test_split(features, labels, test_size = 0.25, random_state = 1202)"
   ]
  },
  {
   "cell_type": "markdown",
   "metadata": {},
   "source": [
    "# Model "
   ]
  },
  {
   "cell_type": "markdown",
   "metadata": {},
   "source": [
    "## Create Model"
   ]
  },
  {
   "cell_type": "code",
   "execution_count": 18,
   "metadata": {},
   "outputs": [
    {
     "name": "stdout",
     "output_type": "stream",
     "text": [
      "Wall time: 0 ns\n"
     ]
    }
   ],
   "source": [
    "%%time\n",
    "rf = RandomForestClassifier(n_estimators = 100, random_state = 1202)"
   ]
  },
  {
   "cell_type": "code",
   "execution_count": 19,
   "metadata": {},
   "outputs": [
    {
     "name": "stdout",
     "output_type": "stream",
     "text": [
      "Wall time: 47.1 s\n"
     ]
    },
    {
     "data": {
      "text/plain": [
       "RandomForestClassifier(random_state=1202)"
      ]
     },
     "execution_count": 19,
     "metadata": {},
     "output_type": "execute_result"
    }
   ],
   "source": [
    "%%time\n",
    "rf.fit(train_features, train_labels)"
   ]
  },
  {
   "cell_type": "markdown",
   "metadata": {},
   "source": [
    "## Test Model"
   ]
  },
  {
   "cell_type": "code",
   "execution_count": 20,
   "metadata": {},
   "outputs": [],
   "source": [
    "predictions = rf.predict(test_features)"
   ]
  },
  {
   "cell_type": "code",
   "execution_count": 26,
   "metadata": {},
   "outputs": [
    {
     "data": {
      "text/plain": [
       "True"
      ]
     },
     "execution_count": 26,
     "metadata": {},
     "output_type": "execute_result"
    }
   ],
   "source": [
    "len(predictions) == len(test_labels)"
   ]
  },
  {
   "cell_type": "code",
   "execution_count": 25,
   "metadata": {},
   "outputs": [
    {
     "data": {
      "text/plain": [
       "54088"
      ]
     },
     "execution_count": 25,
     "metadata": {},
     "output_type": "execute_result"
    }
   ],
   "source": [
    "len(predictions)"
   ]
  },
  {
   "cell_type": "code",
   "execution_count": 39,
   "metadata": {},
   "outputs": [],
   "source": [
    "correct = 0\n",
    "wrong = []\n",
    "for i in range(len(predictions)):\n",
    "    if predictions[i] == test_labels[i]:\n",
    "        correct += 1\n",
    "    else:\n",
    "        wrong.append([test_labels[i],predictions[i]])"
   ]
  },
  {
   "cell_type": "code",
   "execution_count": 40,
   "metadata": {},
   "outputs": [],
   "source": [
    "percent_correct = round((correct/len(predictions))*100,2)"
   ]
  },
  {
   "cell_type": "code",
   "execution_count": 41,
   "metadata": {},
   "outputs": [
    {
     "data": {
      "text/plain": [
       "53558"
      ]
     },
     "execution_count": 41,
     "metadata": {},
     "output_type": "execute_result"
    }
   ],
   "source": [
    "correct"
   ]
  },
  {
   "cell_type": "code",
   "execution_count": 42,
   "metadata": {},
   "outputs": [
    {
     "data": {
      "text/plain": [
       "99.02"
      ]
     },
     "execution_count": 42,
     "metadata": {},
     "output_type": "execute_result"
    }
   ],
   "source": [
    "percent_correct"
   ]
  },
  {
   "cell_type": "code",
   "execution_count": 43,
   "metadata": {},
   "outputs": [],
   "source": [
    "flagged_benign = 0\n",
    "ignored_malicious = 0\n",
    "for bad_prediction in wrong:\n",
    "    if (bad_prediction[0] == 1) & (bad_prediction[1] == 0):\n",
    "        flagged_benign += 1\n",
    "    elif (bad_prediction[0] == 0) & (bad_prediction[1] == 1):\n",
    "        ignored_malicious += 1\n",
    "    else:\n",
    "        print(\"ISSUE: \", bad_prediction)\n",
    "        break"
   ]
  },
  {
   "cell_type": "code",
   "execution_count": 44,
   "metadata": {},
   "outputs": [
    {
     "name": "stdout",
     "output_type": "stream",
     "text": [
      "Accuracy of Classifier is: 99.02%\n",
      "There were 530 units wrongly classified out of 54088\n",
      "We flagged 286 benign files and let 244 malicious files slip by\n"
     ]
    }
   ],
   "source": [
    "print(f\"Accuracy of Classifier is: {percent_correct}%\")\n",
    "print(f\"There were {len(wrong)} units wrongly classified out of {len(predictions)}\")\n",
    "print(f\"We flagged {flagged_benign} benign files and let {ignored_malicious} malicious files slip by\")"
   ]
  },
  {
   "cell_type": "markdown",
   "metadata": {},
   "source": [
    "## Feature Importance"
   ]
  },
  {
   "cell_type": "code",
   "execution_count": 23,
   "metadata": {},
   "outputs": [
    {
     "name": "stdout",
     "output_type": "stream",
     "text": [
      "Variable: ImageBase            Importance: 0.15\n",
      "Variable: Characteristics      Importance: 0.1\n",
      "Variable: SizeOfStackReserve   Importance: 0.08\n",
      "Variable: MajorOperatingSystemVersion Importance: 0.06\n",
      "Variable: Subsystem            Importance: 0.06\n",
      "Variable: ResourcesMinSize     Importance: 0.06\n",
      "Variable: ExportNb             Importance: 0.05\n",
      "Variable: MajorSubsystemVersion Importance: 0.03\n",
      "Variable: CheckSum             Importance: 0.03\n",
      "Variable: SectionsMaxEntropy   Importance: 0.03\n",
      "Variable: ResourcesMinEntropy  Importance: 0.03\n",
      "Variable: MajorImageVersion    Importance: 0.02\n",
      "Variable: MinorImageVersion    Importance: 0.02\n",
      "Variable: ResourcesNb          Importance: 0.02\n",
      "Variable: ResourcesMaxEntropy  Importance: 0.02\n",
      "Variable: ResourcesMaxSize     Importance: 0.02\n",
      "Variable: VersionInformationSize Importance: 0.02\n",
      "Variable: MajorLinkerVersion   Importance: 0.01\n",
      "Variable: MinorLinkerVersion   Importance: 0.01\n",
      "Variable: SizeOfCode           Importance: 0.01\n",
      "Variable: SizeOfInitializedData Importance: 0.01\n",
      "Variable: AddressOfEntryPoint  Importance: 0.01\n",
      "Variable: BaseOfData           Importance: 0.01\n",
      "Variable: SizeOfImage          Importance: 0.01\n",
      "Variable: DllCharacteristics   Importance: 0.01\n",
      "Variable: SizeOfStackCommit    Importance: 0.01\n",
      "Variable: SectionsNb           Importance: 0.01\n",
      "Variable: SectionsMeanEntropy  Importance: 0.01\n",
      "Variable: SectionsMinEntropy   Importance: 0.01\n",
      "Variable: SectionsMinRawsize   Importance: 0.01\n",
      "Variable: SectionMaxRawsize    Importance: 0.01\n",
      "Variable: SectionsMeanVirtualsize Importance: 0.01\n",
      "Variable: SectionsMinVirtualsize Importance: 0.01\n",
      "Variable: SectionMaxVirtualsize Importance: 0.01\n",
      "Variable: ImportsNbDLL         Importance: 0.01\n",
      "Variable: ImportsNb            Importance: 0.01\n",
      "Variable: ResourcesMeanEntropy Importance: 0.01\n",
      "Variable: ResourcesMeanSize    Importance: 0.01\n",
      "Variable: LoadConfigurationSize Importance: 0.01\n",
      "Variable: SizeOfOptionalHeader Importance: 0.0\n",
      "Variable: SizeOfUninitializedData Importance: 0.0\n",
      "Variable: BaseOfCode           Importance: 0.0\n",
      "Variable: SectionAlignment     Importance: 0.0\n",
      "Variable: FileAlignment        Importance: 0.0\n",
      "Variable: MinorOperatingSystemVersion Importance: 0.0\n",
      "Variable: MinorSubsystemVersion Importance: 0.0\n",
      "Variable: SizeOfHeaders        Importance: 0.0\n",
      "Variable: SizeOfHeapReserve    Importance: 0.0\n",
      "Variable: SizeOfHeapCommit     Importance: 0.0\n",
      "Variable: LoaderFlags          Importance: 0.0\n",
      "Variable: NumberOfRvaAndSizes  Importance: 0.0\n",
      "Variable: SectionsMeanRawsize  Importance: 0.0\n",
      "Variable: ImportsNbOrdinal     Importance: 0.0\n"
     ]
    }
   ],
   "source": [
    "# Get numerical feature importances\n",
    "importances = list(rf.feature_importances_)\n",
    "# List of tuples with variable and importance\n",
    "feature_importances = [(feature, round(importance, 2)) for feature, importance in zip(feature_list, importances)]\n",
    "# Sort the feature importances by most important first\n",
    "feature_importances = sorted(feature_importances, key = lambda x: x[1], reverse = True)\n",
    "# Print out the feature and importances \n",
    "[print('Variable: {:20} Importance: {}'.format(*pair)) for pair in feature_importances];"
   ]
  }
 ],
 "metadata": {
  "kernelspec": {
   "display_name": "Python 3 (ipykernel)",
   "language": "python",
   "name": "python3"
  },
  "language_info": {
   "codemirror_mode": {
    "name": "ipython",
    "version": 3
   },
   "file_extension": ".py",
   "mimetype": "text/x-python",
   "name": "python",
   "nbconvert_exporter": "python",
   "pygments_lexer": "ipython3",
   "version": "3.7.1"
  }
 },
 "nbformat": 4,
 "nbformat_minor": 1
}
