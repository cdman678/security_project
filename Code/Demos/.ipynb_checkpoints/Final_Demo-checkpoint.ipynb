{
 "cells": [
  {
   "cell_type": "markdown",
   "id": "c86225f3",
   "metadata": {},
   "source": [
    "# Final Demo - Trojan File Modeling and Analysis\n",
    "    Outline: \n",
    "        1) Our Feature Extractor - Analyze the makeup of a file without executing it on the system\n",
    "            - We will show the Feature Extractor on a benign file, a Trojan file, and a non-Trojan malicious file\n",
    "        \n",
    "        2) Using our models (Random Forest Classifiers)\n",
    "            - Show how we can load in our pre-made models to identify the files live\n",
    "            \n",
    "        3) Show decision tree visual from our specialized Trojan Classifier \n",
    "            - How does our model identify a Trojan attack\n",
    "        \n",
    "        4) Feature Importance Breakdown \n",
    "            - What is important to identify a Trojan attack \n",
    "            - Map those features to the demo files\n",
    "            - Explain the context of these features (why are they important)"
   ]
  },
  {
   "cell_type": "markdown",
   "id": "0de925a6",
   "metadata": {},
   "source": [
    "# Using our Feature Extractor Function\n",
    "    Demonstrate how we can parse a file for these key attributes "
   ]
  },
  {
   "cell_type": "markdown",
   "id": "7b71e464",
   "metadata": {},
   "source": [
    "    All Files Used (and their labels) come form the Dike Project: https://github.com/iosifache/DikeDataset"
   ]
  },
  {
   "cell_type": "code",
   "execution_count": 1,
   "id": "4ce05df7",
   "metadata": {},
   "outputs": [],
   "source": [
    "benign_file_path = r\"C:\\Users\\caleb\\PycharmProjects\\security_project\\security_project\\Data\\benign.exe\"\n",
    "trojan_file_path = r\"C:\\Users\\caleb\\PycharmProjects\\security_project\\security_project\\Data\\trojan.exe\"\n",
    "malicious_file_path = r\"C:\\Users\\caleb\\PycharmProjects\\security_project\\security_project\\Data\\malicious.exe\""
   ]
  },
  {
   "cell_type": "code",
   "execution_count": 2,
   "id": "0ce99ad2",
   "metadata": {},
   "outputs": [],
   "source": [
    "all_files = [benign_file_path, trojan_file_path, malicious_file_path]"
   ]
  },
  {
   "cell_type": "code",
   "execution_count": 3,
   "id": "0f58e6a1",
   "metadata": {},
   "outputs": [
    {
     "ename": "ModuleNotFoundError",
     "evalue": "No module named 'FeatureExtractor'",
     "output_type": "error",
     "traceback": [
      "\u001b[1;31m---------------------------------------------------------------------------\u001b[0m",
      "\u001b[1;31mModuleNotFoundError\u001b[0m                       Traceback (most recent call last)",
      "\u001b[1;32m~\\AppData\\Local\\Temp\\ipykernel_13308\\38141654.py\u001b[0m in \u001b[0;36m<module>\u001b[1;34m\u001b[0m\n\u001b[0;32m      1\u001b[0m \u001b[1;31m# Import our FeatureExtractor Library\u001b[0m\u001b[1;33m\u001b[0m\u001b[1;33m\u001b[0m\u001b[1;33m\u001b[0m\u001b[0m\n\u001b[1;32m----> 2\u001b[1;33m \u001b[1;32mfrom\u001b[0m \u001b[0mFeatureExtractor\u001b[0m\u001b[1;33m.\u001b[0m\u001b[0mfeatureEx\u001b[0m \u001b[1;32mimport\u001b[0m \u001b[0mFeatureExtractor\u001b[0m\u001b[1;33m\u001b[0m\u001b[1;33m\u001b[0m\u001b[0m\n\u001b[0m\u001b[0;32m      3\u001b[0m \u001b[1;32mimport\u001b[0m \u001b[0mpandas\u001b[0m \u001b[1;32mas\u001b[0m \u001b[0mpd\u001b[0m\u001b[1;33m\u001b[0m\u001b[1;33m\u001b[0m\u001b[0m\n\u001b[0;32m      4\u001b[0m \u001b[1;32mimport\u001b[0m \u001b[0mre\u001b[0m\u001b[1;33m\u001b[0m\u001b[1;33m\u001b[0m\u001b[0m\n",
      "\u001b[1;31mModuleNotFoundError\u001b[0m: No module named 'FeatureExtractor'"
     ]
    }
   ],
   "source": [
    "# Import our FeatureExtractor Library\n",
    "from FeatureExtractor.featureEx import FeatureExtractor\n",
    "import pandas as pd\n",
    "import re"
   ]
  },
  {
   "cell_type": "markdown",
   "id": "d66ef845",
   "metadata": {},
   "source": [
    "    Run File Extractor on the 3 example files"
   ]
  },
  {
   "cell_type": "code",
   "execution_count": null,
   "id": "13ad42f0",
   "metadata": {},
   "outputs": [],
   "source": [
    "master_df = pd.DataFrame()\n",
    "for file in all_files:\n",
    "    # instead of ..\\Data\\foo.exe we need foo\n",
    "    print(file)\n",
    "    hash_name = re.search(r'Data\\\\(.*)\\.|Data\\\\(.*)',file).group(1)\n",
    "    # Use FeatureExtractor\n",
    "    newFeatureExtractor = FeatureExtractor(path=file)\n",
    "    attributesToTest_df = newFeatureExtractor.getFileFeatures()\n",
    "    attributesToTest_df[\"hash\"] = hash_name\n",
    "    # Save the file to the master DF\n",
    "    master_df = master_df.append(attributesToTest_df, ignore_index=True)\n",
    "    del attributesToTest_df\n",
    "    del newFeatureExtractor"
   ]
  },
  {
   "cell_type": "code",
   "execution_count": null,
   "id": "d5ca97bb",
   "metadata": {},
   "outputs": [],
   "source": [
    "master_df.shape"
   ]
  },
  {
   "cell_type": "markdown",
   "id": "6e59d6a7",
   "metadata": {},
   "source": [
    "        Perform some minor cleanup before modeling"
   ]
  },
  {
   "cell_type": "code",
   "execution_count": null,
   "id": "987f3fb7",
   "metadata": {},
   "outputs": [],
   "source": [
    "master_df = master_df.drop(columns=[\"ID\",\"md5\",\"VersionInformationSize\",\"legitimate\"])"
   ]
  },
  {
   "cell_type": "code",
   "execution_count": null,
   "id": "d306a6d3",
   "metadata": {},
   "outputs": [],
   "source": [
    "master_df.head()"
   ]
  },
  {
   "cell_type": "markdown",
   "id": "abaea879",
   "metadata": {},
   "source": [
    "# Using our Deployable Models\n",
    "    We have trained two Random Forest Classifier Models that we have saved and will demonstrate here"
   ]
  },
  {
   "cell_type": "code",
   "execution_count": null,
   "id": "2e61782f",
   "metadata": {},
   "outputs": [],
   "source": [
    "# Load in our pre-made model\n",
    "# Note: Our Model is a RandomForestClassifier from the sklearn library\n",
    "import pickle\n",
    "\n",
    "with open('master_model', 'rb') as f:\n",
    "    model = pickle.load(f)"
   ]
  },
  {
   "cell_type": "code",
   "execution_count": null,
   "id": "7d33ebd8",
   "metadata": {},
   "outputs": [],
   "source": [
    "# Use the model\n",
    "# Here we predict - Benign, Trojan, or Generic (non-Trojan Attack)\n",
    "predictions = model.predict(master_df.drop(columns=[\"hash\"]))"
   ]
  },
  {
   "cell_type": "code",
   "execution_count": null,
   "id": "f41c144c",
   "metadata": {},
   "outputs": [],
   "source": [
    "predictions"
   ]
  },
  {
   "cell_type": "code",
   "execution_count": null,
   "id": "0c7337c0",
   "metadata": {},
   "outputs": [],
   "source": [
    "master_df[\"prediction\"] = predictions"
   ]
  },
  {
   "cell_type": "code",
   "execution_count": null,
   "id": "f2188dbc",
   "metadata": {},
   "outputs": [],
   "source": [
    "master_df.head()"
   ]
  },
  {
   "cell_type": "markdown",
   "id": "91334da5",
   "metadata": {},
   "source": [
    "# Explain how we Identify Trojan Attacks \n",
    "    We can predict a Trojan attack, but what gives it away?\n",
    "    This is one of the key takeaways from this project"
   ]
  },
  {
   "cell_type": "markdown",
   "id": "e1393e32",
   "metadata": {},
   "source": [
    "## Show Decision Tree\n",
    "    This is one tree in the forest, to give you the idea about the complexity of the model"
   ]
  },
  {
   "cell_type": "code",
   "execution_count": null,
   "id": "8cec1242",
   "metadata": {
    "scrolled": false
   },
   "outputs": [],
   "source": [
    "from IPython.display import SVG\n",
    "SVG(filename=\"single_trojan_tree.svg\")"
   ]
  },
  {
   "cell_type": "markdown",
   "id": "6b8f4073",
   "metadata": {},
   "source": [
    "## Show Feature Importance \n",
    "    We can open up the \"forest\" and see which features carry the most weight"
   ]
  },
  {
   "cell_type": "code",
   "execution_count": null,
   "id": "be9f67d3",
   "metadata": {},
   "outputs": [],
   "source": [
    "# Here we are loading in the feature importance of our Trojan focused classifier\n",
    "# We opened up the model to see which attributes carry the heaviest weight\n",
    "trojan_feature_importances_df = pd.read_pickle(\"trojan_feature_importance.p\")"
   ]
  },
  {
   "cell_type": "code",
   "execution_count": null,
   "id": "01bb3eac",
   "metadata": {},
   "outputs": [],
   "source": [
    "trojan_feature_importances_df.head(10)"
   ]
  },
  {
   "cell_type": "markdown",
   "id": "a8288be5",
   "metadata": {},
   "source": [
    "## Put Context to the Key Features\n",
    "    Why are these important in identifying a Trojan Attack?\n",
    "    Relate to other papers, or knowledge in the security field"
   ]
  },
  {
   "cell_type": "markdown",
   "id": "beb92a3d",
   "metadata": {},
   "source": [
    "    TODO: Explain the table above"
   ]
  },
  {
   "cell_type": "code",
   "execution_count": null,
   "id": "9a51a1a5",
   "metadata": {},
   "outputs": [],
   "source": []
  }
 ],
 "metadata": {
  "kernelspec": {
   "display_name": "Python 3 (ipykernel)",
   "language": "python",
   "name": "python3"
  },
  "language_info": {
   "codemirror_mode": {
    "name": "ipython",
    "version": 3
   },
   "file_extension": ".py",
   "mimetype": "text/x-python",
   "name": "python",
   "nbconvert_exporter": "python",
   "pygments_lexer": "ipython3",
   "version": "3.7.1"
  },
  "toc": {
   "base_numbering": 1,
   "nav_menu": {},
   "number_sections": true,
   "sideBar": true,
   "skip_h1_title": false,
   "title_cell": "Table of Contents",
   "title_sidebar": "Contents",
   "toc_cell": false,
   "toc_position": {},
   "toc_section_display": true,
   "toc_window_display": false
  }
 },
 "nbformat": 4,
 "nbformat_minor": 5
}
