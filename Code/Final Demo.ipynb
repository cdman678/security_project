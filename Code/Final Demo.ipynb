{
 "cells": [
  {
   "cell_type": "markdown",
   "id": "8c800c4a",
   "metadata": {},
   "source": [
    "# Final Demo - Trojan File Modeling and Analysis\n",
    "    Outline: \n",
    "        1) Our Feature Extractor - Analyze the makeup of a file without executing it on the system\n",
    "            - We will show the Feature Extractor on a benign file, a Trojan file, and a non-Trojan malicious file\n",
    "        \n",
    "        2) Using our models (Random Forest Classifiers)\n",
    "            - Show how we can load in our pre-made models to identify the files live\n",
    "            \n",
    "        3) Show decision tree visual from our specialized Trojan Classifier \n",
    "            - How does our model identify a Trojan attack\n",
    "        \n",
    "        4) Feature Importance Breakdown \n",
    "            - What is important to identify a Trojan attack \n",
    "            - Map those features to the demo files\n",
    "            - Explain the context of these features (why are they important)"
   ]
  },
  {
   "cell_type": "markdown",
   "id": "e218e541",
   "metadata": {},
   "source": [
    "# Using our Feature Extractor Function\n",
    "    Demonstrate how we can parse a file for these key attributes "
   ]
  },
  {
   "cell_type": "code",
   "execution_count": null,
   "id": "5c5f7888",
   "metadata": {},
   "outputs": [],
   "source": []
  },
  {
   "cell_type": "markdown",
   "id": "00440d2c",
   "metadata": {},
   "source": [
    "# Using our Deployable Models\n",
    "    We have trained two Random Forest Classifier Models that we have saved and will demonstrate here"
   ]
  },
  {
   "cell_type": "code",
   "execution_count": null,
   "id": "78b31e84",
   "metadata": {},
   "outputs": [],
   "source": []
  },
  {
   "cell_type": "markdown",
   "id": "5e8fdff8",
   "metadata": {},
   "source": [
    "# Explain how we Identify Trojan Attacks \n",
    "    We can predict a Trojan attack, but what gives it away?\n",
    "    This is one of the key takeaways from this project"
   ]
  },
  {
   "cell_type": "markdown",
   "id": "6cdeb2ac",
   "metadata": {},
   "source": [
    "## Show Decision Tree\n",
    "    This is one tree in the forest, to give you the idea about the complexity of the model"
   ]
  },
  {
   "cell_type": "code",
   "execution_count": null,
   "id": "63314baa",
   "metadata": {},
   "outputs": [],
   "source": []
  },
  {
   "cell_type": "markdown",
   "id": "39a6b769",
   "metadata": {},
   "source": [
    "## Show Feature Importance \n",
    "    We can open up the \"forest\" and see which features carry the most weight"
   ]
  },
  {
   "cell_type": "code",
   "execution_count": null,
   "id": "35d3f3a7",
   "metadata": {},
   "outputs": [],
   "source": []
  },
  {
   "cell_type": "markdown",
   "id": "f2b7bd8d",
   "metadata": {},
   "source": [
    "## Put Context to the Key Features\n",
    "    Why are these important in identifying a Trojan Attack?\n",
    "    Relate to other papers, or knowledge in the security field"
   ]
  },
  {
   "cell_type": "code",
   "execution_count": null,
   "id": "41af609c",
   "metadata": {},
   "outputs": [],
   "source": []
  }
 ],
 "metadata": {
  "kernelspec": {
   "display_name": "Python 3 (ipykernel)",
   "language": "python",
   "name": "python3"
  },
  "language_info": {
   "codemirror_mode": {
    "name": "ipython",
    "version": 3
   },
   "file_extension": ".py",
   "mimetype": "text/x-python",
   "name": "python",
   "nbconvert_exporter": "python",
   "pygments_lexer": "ipython3",
   "version": "3.7.1"
  },
  "toc": {
   "base_numbering": 1,
   "nav_menu": {},
   "number_sections": true,
   "sideBar": true,
   "skip_h1_title": false,
   "title_cell": "Table of Contents",
   "title_sidebar": "Contents",
   "toc_cell": false,
   "toc_position": {},
   "toc_section_display": true,
   "toc_window_display": false
  }
 },
 "nbformat": 4,
 "nbformat_minor": 5
}
