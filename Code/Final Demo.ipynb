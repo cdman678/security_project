{
 "cells": [
  {
   "cell_type": "markdown",
   "id": "e2125926",
   "metadata": {},
   "source": [
    "# Final Demo - Trojan File Modeling and Analysis\n",
    "    Outline: \n",
    "        1) Our Feature Extractor - Analyze the makeup of a file without executing it on the system\n",
    "            - We will show the Feature Extractor on a benign file, a Trojan file, and a non-Trojan malicious file\n",
    "        \n",
    "        2) Using our models (Random Forest Classifiers)\n",
    "            - Show how we can load in our pre-made models to identify the files live\n",
    "            \n",
    "        3) Show decision tree visual from our specialized Trojan Classifier \n",
    "            - How does our model identify a Trojan attack\n",
    "        \n",
    "        4) Feature Importance Breakdown \n",
    "            - What is important to identify a Trojan attack \n",
    "            - Map those features to the demo files\n",
    "            - Explain the context of these features (why are they important)"
   ]
  },
  {
   "cell_type": "markdown",
   "id": "a311eb2a",
   "metadata": {},
   "source": [
    "# Using our Feature Extractor Function"
   ]
  },
  {
   "cell_type": "code",
   "execution_count": null,
   "id": "aa11fd1e",
   "metadata": {},
   "outputs": [],
   "source": []
  },
  {
   "cell_type": "markdown",
   "id": "19f00b0f",
   "metadata": {},
   "source": [
    "# Using our Deployable Model"
   ]
  },
  {
   "cell_type": "code",
   "execution_count": null,
   "id": "c20182e6",
   "metadata": {},
   "outputs": [],
   "source": []
  },
  {
   "cell_type": "markdown",
   "id": "2056a1bf",
   "metadata": {},
   "source": [
    "# Explain how we Identify Trojan Attacks "
   ]
  },
  {
   "cell_type": "code",
   "execution_count": null,
   "id": "ac7b56fe",
   "metadata": {},
   "outputs": [],
   "source": []
  },
  {
   "cell_type": "markdown",
   "id": "73e821b8",
   "metadata": {},
   "source": [
    "## Show Decision Tree"
   ]
  },
  {
   "cell_type": "code",
   "execution_count": null,
   "id": "5f6d2d3b",
   "metadata": {},
   "outputs": [],
   "source": []
  },
  {
   "cell_type": "markdown",
   "id": "ee328070",
   "metadata": {},
   "source": [
    "## Show Feature Importance "
   ]
  },
  {
   "cell_type": "code",
   "execution_count": null,
   "id": "763e592d",
   "metadata": {},
   "outputs": [],
   "source": []
  },
  {
   "cell_type": "markdown",
   "id": "e88cf26f",
   "metadata": {},
   "source": [
    "## Put Context to the Key Features\n",
    "    Why are these important an identifying a Trojan Attack?"
   ]
  },
  {
   "cell_type": "code",
   "execution_count": null,
   "id": "fb55e8b0",
   "metadata": {},
   "outputs": [],
   "source": []
  }
 ],
 "metadata": {
  "kernelspec": {
   "display_name": "Python 3 (ipykernel)",
   "language": "python",
   "name": "python3"
  },
  "language_info": {
   "codemirror_mode": {
    "name": "ipython",
    "version": 3
   },
   "file_extension": ".py",
   "mimetype": "text/x-python",
   "name": "python",
   "nbconvert_exporter": "python",
   "pygments_lexer": "ipython3",
   "version": "3.7.1"
  },
  "toc": {
   "base_numbering": 1,
   "nav_menu": {},
   "number_sections": true,
   "sideBar": true,
   "skip_h1_title": false,
   "title_cell": "Table of Contents",
   "title_sidebar": "Contents",
   "toc_cell": false,
   "toc_position": {},
   "toc_section_display": true,
   "toc_window_display": false
  }
 },
 "nbformat": 4,
 "nbformat_minor": 5
}
